{
 "cells": [
  {
   "cell_type": "markdown",
   "id": "74dd7b44",
   "metadata": {
    "cell_marker": "\"\"\""
   },
   "source": [
    "# Responses: 1. Media\n",
    "\n",
    "Here, [Attachment](../apiref/chatsky.core.message.rst#chatsky.core.message.Attachment) class is shown.\n",
    "Attachments can be used for attaching different media elements\n",
    "(such as [Image](../apiref/chatsky.core.message.rst#chatsky.core.message.Image),\n",
    "[Document](../apiref/chatsky.core.message.rst#chatsky.core.message.Document)\n",
    "or [Audio](../apiref/chatsky.core.message.rst#chatsky.core.message.Audio)).\n",
    "\n",
    "They can be attached to any message but will only work if the chosen\n",
    "[messenger interface](../apiref/index_messenger_interfaces.rst) supports them."
   ]
  },
  {
   "cell_type": "code",
   "execution_count": 1,
   "id": "176b7104",
   "metadata": {
    "execution": {
     "iopub.execute_input": "2025-02-20T01:18:22.177474Z",
     "iopub.status.busy": "2025-02-20T01:18:22.176980Z",
     "iopub.status.idle": "2025-02-20T01:18:23.487699Z",
     "shell.execute_reply": "2025-02-20T01:18:23.486905Z"
    }
   },
   "outputs": [
    {
     "name": "stdout",
     "output_type": "stream",
     "text": [
      "Note: you may need to restart the kernel to use updated packages.\n"
     ]
    }
   ],
   "source": [
    "# installing dependencies\n",
    "%pip install -q chatsky==0.10.0"
   ]
  },
  {
   "cell_type": "code",
   "execution_count": 2,
   "id": "5633bc03",
   "metadata": {
    "execution": {
     "iopub.execute_input": "2025-02-20T01:18:23.490018Z",
     "iopub.status.busy": "2025-02-20T01:18:23.489819Z",
     "iopub.status.idle": "2025-02-20T01:18:25.162249Z",
     "shell.execute_reply": "2025-02-20T01:18:25.161492Z"
    },
    "lines_to_next_cell": 2
   },
   "outputs": [],
   "source": [
    "from chatsky import (\n",
    "    RESPONSE,\n",
    "    TRANSITIONS,\n",
    "    Message,\n",
    "    Pipeline,\n",
    "    Transition as Tr,\n",
    "    conditions as cnd,\n",
    "    destinations as dst,\n",
    ")\n",
    "from chatsky.core.message import Image\n",
    "\n",
    "from chatsky.utils.testing import (\n",
    "    check_happy_path,\n",
    "    is_interactive_mode,\n",
    ")"
   ]
  },
  {
   "cell_type": "code",
   "execution_count": 3,
   "id": "b1179b6b",
   "metadata": {
    "execution": {
     "iopub.execute_input": "2025-02-20T01:18:25.165224Z",
     "iopub.status.busy": "2025-02-20T01:18:25.164690Z",
     "iopub.status.idle": "2025-02-20T01:18:25.173977Z",
     "shell.execute_reply": "2025-02-20T01:18:25.173406Z"
    },
    "lines_to_next_cell": 2
   },
   "outputs": [],
   "source": [
    "img_url = \"https://www.python.org/static/img/python-logo.png\"\n",
    "toy_script = {\n",
    "    \"root\": {\n",
    "        \"start\": {\n",
    "            TRANSITIONS: [Tr(dst=(\"pics\", \"ask_picture\"))],\n",
    "        },\n",
    "        \"fallback\": {\n",
    "            RESPONSE: \"Final node reached, send any message to restart.\",\n",
    "            TRANSITIONS: [Tr(dst=(\"pics\", \"ask_picture\"))],\n",
    "        },\n",
    "    },\n",
    "    \"pics\": {\n",
    "        \"ask_picture\": {\n",
    "            RESPONSE: \"Please, send me a picture url\",\n",
    "            TRANSITIONS: [\n",
    "                Tr(\n",
    "                    dst=(\"pics\", \"send_one\"),\n",
    "                    cnd=cnd.Regexp(r\"^http.+\\.png$\"),\n",
    "                ),\n",
    "                Tr(\n",
    "                    dst=(\"pics\", \"send_many\"),\n",
    "                    cnd=cnd.Regexp(f\"{img_url} repeat 10 times\"),\n",
    "                ),\n",
    "                Tr(\n",
    "                    dst=dst.Current(),\n",
    "                ),\n",
    "            ],\n",
    "        },\n",
    "        \"send_one\": {\n",
    "            RESPONSE: Message(  # need to use the Message class to send images\n",
    "                text=\"here's my picture!\",\n",
    "                attachments=[Image(source=img_url)],\n",
    "            ),\n",
    "        },\n",
    "        \"send_many\": {\n",
    "            RESPONSE: Message(\n",
    "                text=\"Look at my pictures\",\n",
    "                attachments=[Image(source=img_url)] * 10,\n",
    "            ),\n",
    "        },\n",
    "    },\n",
    "}\n",
    "\n",
    "happy_path = (\n",
    "    (\"Hi\", \"Please, send me a picture url\"),\n",
    "    (\"no\", \"Please, send me a picture url\"),\n",
    "    (\n",
    "        img_url,\n",
    "        Message(\n",
    "            text=\"here's my picture!\",\n",
    "            attachments=[Image(source=img_url)],\n",
    "        ),\n",
    "    ),\n",
    "    (\"ok\", \"Final node reached, send any message to restart.\"),\n",
    "    (\"ok\", \"Please, send me a picture url\"),\n",
    "    (\n",
    "        f\"{img_url} repeat 10 times\",\n",
    "        Message(\n",
    "            text=\"Look at my pictures\",\n",
    "            attachments=[Image(source=img_url)] * 10,\n",
    "        ),\n",
    "    ),\n",
    "    (\"ok\", \"Final node reached, send any message to restart.\"),\n",
    ")"
   ]
  },
  {
   "cell_type": "code",
   "execution_count": 4,
   "id": "894e5528",
   "metadata": {
    "execution": {
     "iopub.execute_input": "2025-02-20T01:18:25.176262Z",
     "iopub.status.busy": "2025-02-20T01:18:25.175859Z",
     "iopub.status.idle": "2025-02-20T01:18:25.212557Z",
     "shell.execute_reply": "2025-02-20T01:18:25.211828Z"
    }
   },
   "outputs": [
    {
     "name": "stdout",
     "output_type": "stream",
     "text": [
      "USER: text='Hi'\n",
      "BOT : text='Please, send me a picture url'\n",
      "USER: text='no'\n",
      "BOT : text='Please, send me a picture url'\n",
      "USER: text='https://www.python.org/static/img/python-logo.png'\n",
      "BOT : text='here's my picture!' attachments='[{'chatsky_attachment_type': 'image', 'source': Url('https://www.python.org/static/img/python-logo.png'), 'use_cache': True}]'\n",
      "USER: text='ok'\n",
      "BOT : text='Final node reached, send any message to restart.'\n",
      "USER: text='ok'\n",
      "BOT : text='Please, send me a picture url'\n",
      "USER: text='https://www.python.org/static/img/python-logo.png repeat 10 times'\n",
      "BOT : text='Look at my pictures' attachments='[{'chatsky_attachment_type': 'image', 'source': Url('https://www.python.org/static/img/python-logo.png'), 'use_cache': True}, {'chatsky_attachment_type': 'image', 'source': Url('https://www.python.org/static/img/python-logo.png'), 'use_cache': True}, {'chatsky_attachment_type': 'image', 'source': Url('https://www.python.org/static/img/python-logo.png'), 'use_cache': True}, {'chatsky_attachment_type': 'image', 'source': Url('https://www.python.org/static/img/python-logo.png'), 'use_cache': True}, {'chatsky_attachment_type': 'image', 'source': Url('https://www.python.org/static/img/python-logo.png'), 'use_cache': True}, {'chatsky_attachment_type': 'image', 'source': Url('https://www.python.org/static/img/python-logo.png'), 'use_cache': True}, {'chatsky_attachment_type': 'image', 'source': Url('https://www.python.org/static/img/python-logo.png'), 'use_cache': True}, {'chatsky_attachment_type': 'image', 'source': Url('https://www.python.org/static/img/python-logo.png'), 'use_cache': True}, {'chatsky_attachment_type': 'image', 'source': Url('https://www.python.org/static/img/python-logo.png'), 'use_cache': True}, {'chatsky_attachment_type': 'image', 'source': Url('https://www.python.org/static/img/python-logo.png'), 'use_cache': True}]'\n",
      "USER: text='ok'\n",
      "BOT : text='Final node reached, send any message to restart.'\n"
     ]
    }
   ],
   "source": [
    "pipeline = Pipeline(\n",
    "    script=toy_script,\n",
    "    start_label=(\"root\", \"start\"),\n",
    "    fallback_label=(\"root\", \"fallback\"),\n",
    ")\n",
    "\n",
    "if __name__ == \"__main__\":\n",
    "    check_happy_path(pipeline, happy_path, printout=True)\n",
    "    if is_interactive_mode():\n",
    "        pipeline.run()"
   ]
  }
 ],
 "metadata": {
  "jupytext": {
   "cell_metadata_filter": "-all",
   "main_language": "python",
   "notebook_metadata_filter": "-all",
   "text_representation": {
    "extension": ".py",
    "format_name": "percent"
   }
  },
  "language_info": {
   "codemirror_mode": {
    "name": "ipython",
    "version": 3
   },
   "file_extension": ".py",
   "mimetype": "text/x-python",
   "name": "python",
   "nbconvert_exporter": "python",
   "pygments_lexer": "ipython3",
   "version": "3.9.21"
  }
 },
 "nbformat": 4,
 "nbformat_minor": 5
}
