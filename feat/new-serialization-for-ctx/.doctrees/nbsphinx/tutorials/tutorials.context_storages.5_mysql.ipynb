{
 "cells": [
  {
   "cell_type": "markdown",
   "id": "6509a99b",
   "metadata": {
    "cell_marker": "\"\"\""
   },
   "source": [
    "# 5. MySQL\n",
    "\n",
    "This is a tutorial on using MySQL.\n",
    "\n",
    "See [SQLContextStorage](../apiref/chatsky.context_storages.sql.rst#chatsky.context_storages.sql.SQLContextStorage) class\n",
    "for storing you users' contexts in SQL databases.\n",
    "\n",
    "Chatsky uses [sqlalchemy](https://docs.sqlalchemy.org/en/20/)\n",
    "and [asyncmy](https://github.com/long2ice/asyncmy)\n",
    "libraries for asynchronous access to MySQL DB."
   ]
  },
  {
   "cell_type": "code",
   "execution_count": 1,
   "id": "d28b11bd",
   "metadata": {
    "execution": {
     "iopub.execute_input": "2025-02-20T02:11:55.134563Z",
     "iopub.status.busy": "2025-02-20T02:11:55.134350Z",
     "iopub.status.idle": "2025-02-20T02:11:56.340761Z",
     "shell.execute_reply": "2025-02-20T02:11:56.339899Z"
    }
   },
   "outputs": [
    {
     "name": "stdout",
     "output_type": "stream",
     "text": [
      "Note: you may need to restart the kernel to use updated packages.\n"
     ]
    }
   ],
   "source": [
    "# installing dependencies\n",
    "%pip install -q chatsky[mysql]==0.10.0"
   ]
  },
  {
   "cell_type": "code",
   "execution_count": 2,
   "id": "3d9ee862",
   "metadata": {
    "execution": {
     "iopub.execute_input": "2025-02-20T02:11:56.343430Z",
     "iopub.status.busy": "2025-02-20T02:11:56.342887Z",
     "iopub.status.idle": "2025-02-20T02:11:57.950729Z",
     "shell.execute_reply": "2025-02-20T02:11:57.949898Z"
    },
    "lines_to_next_cell": 2
   },
   "outputs": [],
   "source": [
    "import os\n",
    "\n",
    "from chatsky.context_storages import context_storage_factory\n",
    "\n",
    "from chatsky import Pipeline\n",
    "from chatsky.utils.testing.common import (\n",
    "    check_happy_path,\n",
    "    is_interactive_mode,\n",
    ")\n",
    "from chatsky.utils.testing.toy_script import TOY_SCRIPT_KWARGS, HAPPY_PATH"
   ]
  },
  {
   "cell_type": "code",
   "execution_count": 3,
   "id": "8743997a",
   "metadata": {
    "execution": {
     "iopub.execute_input": "2025-02-20T02:11:57.953649Z",
     "iopub.status.busy": "2025-02-20T02:11:57.953325Z",
     "iopub.status.idle": "2025-02-20T02:11:58.004506Z",
     "shell.execute_reply": "2025-02-20T02:11:58.003887Z"
    },
    "lines_to_next_cell": 2
   },
   "outputs": [],
   "source": [
    "db_uri = \"mysql+asyncmy://{}:{}@localhost:3307/{}\".format(\n",
    "    os.environ[\"MYSQL_USERNAME\"],\n",
    "    os.environ[\"MYSQL_PASSWORD\"],\n",
    "    os.environ[\"MYSQL_DATABASE\"],\n",
    ")\n",
    "db = context_storage_factory(db_uri)\n",
    "\n",
    "\n",
    "pipeline = Pipeline(**TOY_SCRIPT_KWARGS, context_storage=db)"
   ]
  },
  {
   "cell_type": "code",
   "execution_count": 4,
   "id": "09057854",
   "metadata": {
    "execution": {
     "iopub.execute_input": "2025-02-20T02:11:58.007062Z",
     "iopub.status.busy": "2025-02-20T02:11:58.006528Z",
     "iopub.status.idle": "2025-02-20T02:11:58.194061Z",
     "shell.execute_reply": "2025-02-20T02:11:58.193290Z"
    }
   },
   "outputs": [
    {
     "name": "stdout",
     "output_type": "stream",
     "text": [
      "USER: text='Hi'\n",
      "BOT : text='Hi, how are you?'\n",
      "USER: text='i'm fine, how are you?'\n",
      "BOT : text='Good. What do you want to talk about?'\n",
      "USER: text='Let's talk about music.'\n",
      "BOT : text='Sorry, I can not talk about music now.'\n",
      "USER: text='Ok, goodbye.'\n",
      "BOT : text='bye'\n",
      "USER: text='Hi'\n",
      "BOT : text='Hi, how are you?'\n"
     ]
    }
   ],
   "source": [
    "if __name__ == \"__main__\":\n",
    "    check_happy_path(pipeline, HAPPY_PATH, printout=True)\n",
    "    if is_interactive_mode():\n",
    "        pipeline.run()"
   ]
  }
 ],
 "metadata": {
  "jupytext": {
   "cell_metadata_filter": "-all",
   "main_language": "python",
   "notebook_metadata_filter": "-all",
   "text_representation": {
    "extension": ".py",
    "format_name": "percent"
   }
  },
  "language_info": {
   "codemirror_mode": {
    "name": "ipython",
    "version": 3
   },
   "file_extension": ".py",
   "mimetype": "text/x-python",
   "name": "python",
   "nbconvert_exporter": "python",
   "pygments_lexer": "ipython3",
   "version": "3.9.21"
  }
 },
 "nbformat": 4,
 "nbformat_minor": 5
}
