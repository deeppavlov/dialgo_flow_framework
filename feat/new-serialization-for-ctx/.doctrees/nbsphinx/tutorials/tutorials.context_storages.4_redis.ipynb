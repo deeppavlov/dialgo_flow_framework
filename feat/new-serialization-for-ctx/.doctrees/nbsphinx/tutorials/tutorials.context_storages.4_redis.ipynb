{
 "cells": [
  {
   "cell_type": "markdown",
   "id": "2ca54f27",
   "metadata": {
    "cell_marker": "\"\"\""
   },
   "source": [
    "# 4. Redis\n",
    "\n",
    "This is a tutorial on using Redis.\n",
    "\n",
    "See [RedisContextStorage](../apiref/chatsky.context_storages.redis.rst#chatsky.context_storages.redis.RedisContextStorage) class\n",
    "for storing you users' contexts in Redis database.\n",
    "\n",
    "Chatsky uses [redis.asyncio](https://redis.readthedocs.io/en/latest/)\n",
    "library for asynchronous access to Redis DB."
   ]
  },
  {
   "cell_type": "code",
   "execution_count": 1,
   "id": "d3ca5fad",
   "metadata": {
    "execution": {
     "iopub.execute_input": "2025-02-19T23:13:26.690022Z",
     "iopub.status.busy": "2025-02-19T23:13:26.689631Z",
     "iopub.status.idle": "2025-02-19T23:13:27.913990Z",
     "shell.execute_reply": "2025-02-19T23:13:27.913252Z"
    }
   },
   "outputs": [
    {
     "name": "stdout",
     "output_type": "stream",
     "text": [
      "Note: you may need to restart the kernel to use updated packages.\n"
     ]
    }
   ],
   "source": [
    "# installing dependencies\n",
    "%pip install -q chatsky[redis]==0.10.0"
   ]
  },
  {
   "cell_type": "code",
   "execution_count": 2,
   "id": "5f2486ee",
   "metadata": {
    "execution": {
     "iopub.execute_input": "2025-02-19T23:13:27.916599Z",
     "iopub.status.busy": "2025-02-19T23:13:27.916350Z",
     "iopub.status.idle": "2025-02-19T23:13:29.655841Z",
     "shell.execute_reply": "2025-02-19T23:13:29.655178Z"
    },
    "lines_to_next_cell": 2
   },
   "outputs": [],
   "source": [
    "import os\n",
    "\n",
    "from chatsky.context_storages import context_storage_factory\n",
    "\n",
    "from chatsky import Pipeline\n",
    "from chatsky.utils.testing.common import (\n",
    "    check_happy_path,\n",
    "    is_interactive_mode,\n",
    ")\n",
    "from chatsky.utils.testing.toy_script import TOY_SCRIPT_KWARGS, HAPPY_PATH"
   ]
  },
  {
   "cell_type": "code",
   "execution_count": 3,
   "id": "7fc86eed",
   "metadata": {
    "execution": {
     "iopub.execute_input": "2025-02-19T23:13:29.658739Z",
     "iopub.status.busy": "2025-02-19T23:13:29.658167Z",
     "iopub.status.idle": "2025-02-19T23:13:29.663074Z",
     "shell.execute_reply": "2025-02-19T23:13:29.662138Z"
    },
    "lines_to_next_cell": 2
   },
   "outputs": [],
   "source": [
    "db_uri = \"redis://{}:{}@localhost:6379/{}\".format(\n",
    "    \"\", os.environ[\"REDIS_PASSWORD\"], \"0\"\n",
    ")\n",
    "db = context_storage_factory(db_uri)\n",
    "\n",
    "\n",
    "pipeline = Pipeline(**TOY_SCRIPT_KWARGS, context_storage=db)"
   ]
  },
  {
   "cell_type": "code",
   "execution_count": 4,
   "id": "59de5409",
   "metadata": {
    "execution": {
     "iopub.execute_input": "2025-02-19T23:13:29.665408Z",
     "iopub.status.busy": "2025-02-19T23:13:29.665158Z",
     "iopub.status.idle": "2025-02-19T23:13:29.726829Z",
     "shell.execute_reply": "2025-02-19T23:13:29.726094Z"
    }
   },
   "outputs": [
    {
     "name": "stdout",
     "output_type": "stream",
     "text": [
      "USER: text='Hi'\n",
      "BOT : text='Hi, how are you?'\n",
      "USER: text='i'm fine, how are you?'\n",
      "BOT : text='Good. What do you want to talk about?'\n",
      "USER: text='Let's talk about music.'\n",
      "BOT : text='Sorry, I can not talk about music now.'\n",
      "USER: text='Ok, goodbye.'\n",
      "BOT : text='bye'\n",
      "USER: text='Hi'\n",
      "BOT : text='Hi, how are you?'\n"
     ]
    }
   ],
   "source": [
    "if __name__ == \"__main__\":\n",
    "    check_happy_path(pipeline, HAPPY_PATH, printout=True)\n",
    "    if is_interactive_mode():\n",
    "        pipeline.run()"
   ]
  }
 ],
 "metadata": {
  "jupytext": {
   "cell_metadata_filter": "-all",
   "main_language": "python",
   "notebook_metadata_filter": "-all",
   "text_representation": {
    "extension": ".py",
    "format_name": "percent"
   }
  },
  "language_info": {
   "codemirror_mode": {
    "name": "ipython",
    "version": 3
   },
   "file_extension": ".py",
   "mimetype": "text/x-python",
   "name": "python",
   "nbconvert_exporter": "python",
   "pygments_lexer": "ipython3",
   "version": "3.9.21"
  }
 },
 "nbformat": 4,
 "nbformat_minor": 5
}
