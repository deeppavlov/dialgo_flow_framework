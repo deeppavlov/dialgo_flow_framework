{
 "cells": [
  {
   "cell_type": "markdown",
   "id": "44f7c5fc",
   "metadata": {
    "cell_marker": "\"\"\""
   },
   "source": [
    "# 8. Partial context updates\n",
    "\n",
    "The following tutorial shows the advanced usage\n",
    "of context storage and context storage schema."
   ]
  },
  {
   "cell_type": "code",
   "execution_count": 1,
   "id": "0bb7ce6c",
   "metadata": {
    "execution": {
     "iopub.execute_input": "2025-02-20T02:46:29.861228Z",
     "iopub.status.busy": "2025-02-20T02:46:29.860752Z",
     "iopub.status.idle": "2025-02-20T02:46:31.542963Z",
     "shell.execute_reply": "2025-02-20T02:46:31.542107Z"
    }
   },
   "outputs": [
    {
     "name": "stdout",
     "output_type": "stream",
     "text": [
      "Note: you may need to restart the kernel to use updated packages.\n"
     ]
    }
   ],
   "source": [
    "# installing dependencies\n",
    "%pip install -q chatsky==0.10.0"
   ]
  },
  {
   "cell_type": "code",
   "execution_count": 2,
   "id": "6217228b",
   "metadata": {
    "execution": {
     "iopub.execute_input": "2025-02-20T02:46:31.545592Z",
     "iopub.status.busy": "2025-02-20T02:46:31.545122Z",
     "iopub.status.idle": "2025-02-20T02:46:33.182652Z",
     "shell.execute_reply": "2025-02-20T02:46:33.181886Z"
    }
   },
   "outputs": [],
   "source": [
    "from pathlib import Path\n",
    "\n",
    "from chatsky import Pipeline\n",
    "from chatsky.context_storages import context_storage_factory\n",
    "from chatsky.context_storages.database import NameConfig\n",
    "from chatsky.utils.testing.common import check_happy_path, is_interactive_mode\n",
    "from chatsky.utils.testing.toy_script import TOY_SCRIPT_KWARGS, HAPPY_PATH"
   ]
  },
  {
   "cell_type": "code",
   "execution_count": 3,
   "id": "ea7f30a1",
   "metadata": {
    "execution": {
     "iopub.execute_input": "2025-02-20T02:46:33.185517Z",
     "iopub.status.busy": "2025-02-20T02:46:33.184978Z",
     "iopub.status.idle": "2025-02-20T02:46:33.189119Z",
     "shell.execute_reply": "2025-02-20T02:46:33.188511Z"
    }
   },
   "outputs": [],
   "source": [
    "Path(\"dbs\").mkdir(exist_ok=True)\n",
    "db = context_storage_factory(\"shelve://dbs/partly.shlv\")\n",
    "\n",
    "pipeline = Pipeline(**TOY_SCRIPT_KWARGS, context_storage=db)"
   ]
  },
  {
   "cell_type": "markdown",
   "id": "cbc5030b",
   "metadata": {
    "cell_marker": "\"\"\""
   },
   "source": [
    "Most of the `Context` fields, that might grow in size uncontrollably,\n",
    "are stored in a special structure, `ContextDict`.\n",
    "This structure can be used for fine-grained access to the underlying\n",
    "database, partial and asynchronous element loading.\n",
    "In particular, this is relevant for `labels`, `requests` and `responses`\n",
    "fields, while `misc` and `framework_data` are always loaded fully.\n",
    "\n",
    "How does that partial field writing work?\n",
    "\n",
    "In most cases, every context storage\n",
    "operates two \"tables\", \"dictionaries\", \"files\", etc.\n",
    "\n",
    "One of them is called `MAIN` and contains all the \"primitive\" `Context`\n",
    "data (and also the data that will be read and written completely every time) -\n",
    "that includes context `id`, `current_turn_id`, `_created_at`,\n",
    "`_updated_at`, `misc` and `framework_data` fields.\n",
    "\n",
    "The other one is called `TURNS` and contains triplets of the data generated on\n",
    "each conversation step: `label`, `request` and `response`.\n",
    "\n",
    "Whenever a context is loaded, all of its information from `MAIN` table\n",
    "and one to few items from `TURNS` table are loaded.\n",
    "More items from `TURNS` table can be loaded later on demand\n",
    "(via the `get` or `__getitem__` methods of corresponding fields)."
   ]
  },
  {
   "cell_type": "markdown",
   "id": "90711454",
   "metadata": {
    "cell_marker": "\"\"\""
   },
   "source": [
    "Database table layout and default behavior are controlled by\n",
    "some special fields of the `DBContextStorage` class.\n",
    "\n",
    "All the table and field names are stored in a special `NameConfig`\n",
    "static class."
   ]
  },
  {
   "cell_type": "markdown",
   "id": "00813395",
   "metadata": {
    "cell_marker": "\"\"\""
   },
   "source": [
    "One of the important configuration options is `_subscripts`:\n",
    "this property controls the number of *last* dictionary items\n",
    "that will be read and written\n",
    "(the items are ordered by keys, ascending) - default value is 3.\n",
    "In order to read *all* items at once, the property\n",
    "can also be set to \"__all__\" literal.\n",
    "In order to read only a specific subset of keys, the property\n",
    "can be set to a set of desired integers."
   ]
  },
  {
   "cell_type": "code",
   "execution_count": 4,
   "id": "b4e9c74a",
   "metadata": {
    "execution": {
     "iopub.execute_input": "2025-02-20T02:46:33.191730Z",
     "iopub.status.busy": "2025-02-20T02:46:33.191095Z",
     "iopub.status.idle": "2025-02-20T02:46:33.194417Z",
     "shell.execute_reply": "2025-02-20T02:46:33.193812Z"
    }
   },
   "outputs": [],
   "source": [
    "# All items will be loaded on every turn.\n",
    "db._subscripts[NameConfig._requests_field] = \"__all__\""
   ]
  },
  {
   "cell_type": "code",
   "execution_count": 5,
   "id": "17ee23a8",
   "metadata": {
    "execution": {
     "iopub.execute_input": "2025-02-20T02:46:33.196631Z",
     "iopub.status.busy": "2025-02-20T02:46:33.196247Z",
     "iopub.status.idle": "2025-02-20T02:46:33.199262Z",
     "shell.execute_reply": "2025-02-20T02:46:33.198657Z"
    }
   },
   "outputs": [],
   "source": [
    "# 5 last items will be loaded on every turn.\n",
    "db._subscripts[NameConfig._requests_field] = 5"
   ]
  },
  {
   "cell_type": "code",
   "execution_count": 6,
   "id": "f8081221",
   "metadata": {
    "execution": {
     "iopub.execute_input": "2025-02-20T02:46:33.201561Z",
     "iopub.status.busy": "2025-02-20T02:46:33.201130Z",
     "iopub.status.idle": "2025-02-20T02:46:33.204340Z",
     "shell.execute_reply": "2025-02-20T02:46:33.203633Z"
    }
   },
   "outputs": [],
   "source": [
    "# Items 1, 3, 5 and 7 will be loaded on every turn.\n",
    "db._subscripts[NameConfig._requests_field] = {1, 3, 5, 7}"
   ]
  },
  {
   "cell_type": "markdown",
   "id": "5bdc3b45",
   "metadata": {
    "cell_marker": "\"\"\""
   },
   "source": [
    "Last but not least, comes `rewrite_existing` boolean flag.\n",
    "\n",
    "Without it any \"silent\" modifications to the values of `ContextDict` will be\n",
    "discarded at the end of each turn.\n",
    "\n",
    "I.e. explicit modification of values via methods such as `__setitem__`,\n",
    "`__delitem__` or `pop` will be kept track of and preserved, while\n",
    "implicit modification via object manipulation,\n",
    "e.g. ``ctx.last_request.text = \"new_text\"``, will be discarded.\n",
    "\n",
    "Turning the option on will enable calculating hashes for all items stored\n",
    "locally and comparing them at the end of every turn, updating any\n",
    "that were implicitly changed.\n",
    "\n",
    "NB! Keeping track of the modified elements comes with a price of calculating\n",
    "their hashes and comparing them, so in performance-critical environments\n",
    "this feature can be disabled by setting the flag to False."
   ]
  },
  {
   "cell_type": "code",
   "execution_count": 7,
   "id": "31608151",
   "metadata": {
    "execution": {
     "iopub.execute_input": "2025-02-20T02:46:33.206423Z",
     "iopub.status.busy": "2025-02-20T02:46:33.206077Z",
     "iopub.status.idle": "2025-02-20T02:46:33.209295Z",
     "shell.execute_reply": "2025-02-20T02:46:33.208635Z"
    }
   },
   "outputs": [],
   "source": [
    "# Any modifications done to the elements already present in storage\n",
    "# will be preserved.\n",
    "db.rewrite_existing = True"
   ]
  },
  {
   "cell_type": "code",
   "execution_count": 8,
   "id": "fc436314",
   "metadata": {
    "execution": {
     "iopub.execute_input": "2025-02-20T02:46:33.211416Z",
     "iopub.status.busy": "2025-02-20T02:46:33.211209Z",
     "iopub.status.idle": "2025-02-20T02:46:33.360251Z",
     "shell.execute_reply": "2025-02-20T02:46:33.359538Z"
    }
   },
   "outputs": [],
   "source": [
    "if __name__ == \"__main__\":\n",
    "    check_happy_path(pipeline, HAPPY_PATH)\n",
    "    # This is a function for automatic\n",
    "    # tutorial running (testing) with HAPPY_PATH\n",
    "\n",
    "    # This runs tutorial in interactive mode if not in IPython env\n",
    "    # and if `DISABLE_INTERACTIVE_MODE` is not set\n",
    "    if is_interactive_mode():\n",
    "        pipeline.run()  # This runs tutorial in interactive mode"
   ]
  }
 ],
 "metadata": {
  "jupytext": {
   "cell_metadata_filter": "-all",
   "main_language": "python",
   "notebook_metadata_filter": "-all",
   "text_representation": {
    "extension": ".py",
    "format_name": "percent"
   }
  },
  "language_info": {
   "codemirror_mode": {
    "name": "ipython",
    "version": 3
   },
   "file_extension": ".py",
   "mimetype": "text/x-python",
   "name": "python",
   "nbconvert_exporter": "python",
   "pygments_lexer": "ipython3",
   "version": "3.9.21"
  }
 },
 "nbformat": 4,
 "nbformat_minor": 5
}
