{
 "cells": [
  {
   "cell_type": "markdown",
   "id": "f4f6857f",
   "metadata": {
    "cell_marker": "\"\"\""
   },
   "source": [
    "# 1. Basic services\n",
    "\n",
    "This tutorial shows basics of using services.\n",
    "\n",
    "Here, [misc](../apiref/chatsky.core.ctx_utils.rst#chatsky.core.ctx_utils.ContextMainInfo.misc)\n",
    "dictionary of context is used for storing additional data."
   ]
  },
  {
   "cell_type": "code",
   "execution_count": 1,
   "id": "2a7535c3",
   "metadata": {
    "execution": {
     "iopub.execute_input": "2025-02-19T23:16:27.110683Z",
     "iopub.status.busy": "2025-02-19T23:16:27.110466Z",
     "iopub.status.idle": "2025-02-19T23:16:28.299419Z",
     "shell.execute_reply": "2025-02-19T23:16:28.298653Z"
    }
   },
   "outputs": [
    {
     "name": "stdout",
     "output_type": "stream",
     "text": [
      "Note: you may need to restart the kernel to use updated packages.\n"
     ]
    }
   ],
   "source": [
    "# installing dependencies\n",
    "%pip install -q chatsky==0.10.0"
   ]
  },
  {
   "cell_type": "code",
   "execution_count": 2,
   "id": "0e02bd94",
   "metadata": {
    "execution": {
     "iopub.execute_input": "2025-02-19T23:16:28.302094Z",
     "iopub.status.busy": "2025-02-19T23:16:28.301629Z",
     "iopub.status.idle": "2025-02-19T23:16:30.043508Z",
     "shell.execute_reply": "2025-02-19T23:16:30.042753Z"
    },
    "lines_to_next_cell": 2
   },
   "outputs": [],
   "source": [
    "import logging\n",
    "import sys\n",
    "from importlib import reload\n",
    "\n",
    "from chatsky import Context, Pipeline\n",
    "\n",
    "from chatsky.utils.testing import (\n",
    "    check_happy_path,\n",
    "    is_interactive_mode,\n",
    "    HAPPY_PATH,\n",
    "    TOY_SCRIPT_KWARGS,\n",
    ")\n",
    "\n",
    "reload(logging)\n",
    "logging.basicConfig(stream=sys.stdout, level=logging.INFO, format=\"\")\n",
    "# fix jupyter logs display\n",
    "\n",
    "logger = logging.getLogger(__name__)"
   ]
  },
  {
   "cell_type": "markdown",
   "id": "bd3d03ff",
   "metadata": {
    "cell_marker": "\"\"\""
   },
   "source": [
    "When Pipeline is created, additional pre-\n",
    "and post-services can be defined. These run before and after\n",
    "`Actor` respectively.\n",
    "\n",
    "<div class=\"alert alert-info\">\n",
    "\n",
    "Reminder\n",
    "\n",
    "`Actor` is a Pipeline component that processes user request, determines\n",
    "the next node and generates a response from that node.\n",
    "\n",
    "</div>\n",
    "\n",
    "Services can be used to access external APIs, annotate user input, etc.\n",
    "\n",
    "Service callables only take one parameter: `ctx` (Context) and have no return.\n",
    "\n",
    "Here a pre-service (\"ping\") and\n",
    "a post-service (\"pong\") are added to the pipeline."
   ]
  },
  {
   "cell_type": "code",
   "execution_count": 3,
   "id": "191cc0ec",
   "metadata": {
    "execution": {
     "iopub.execute_input": "2025-02-19T23:16:30.046689Z",
     "iopub.status.busy": "2025-02-19T23:16:30.045989Z",
     "iopub.status.idle": "2025-02-19T23:16:30.052339Z",
     "shell.execute_reply": "2025-02-19T23:16:30.051657Z"
    },
    "lines_to_next_cell": 2
   },
   "outputs": [],
   "source": [
    "def ping_processor(ctx: Context):\n",
    "    logger.info(\"ping - ...\")\n",
    "    ctx.misc[\"ping\"] = True\n",
    "\n",
    "\n",
    "# services can be both sync and async\n",
    "async def pong_processor(ctx: Context):\n",
    "    ping_pong = ctx.misc.get(\"ping\", False)\n",
    "    logger.info(\"... - pong\")\n",
    "    logger.info(\n",
    "        f\"Ping-pong exchange: \" f\"{'completed' if ping_pong else 'failed'}.\"\n",
    "    )\n",
    "\n",
    "\n",
    "pipeline = Pipeline(\n",
    "    **TOY_SCRIPT_KWARGS,  # contains script, start and fallback labels\n",
    "    pre_services=[ping_processor],\n",
    "    post_services=[pong_processor],\n",
    "    # To add a service simply add it to the corresponding service list\n",
    ")"
   ]
  },
  {
   "cell_type": "code",
   "execution_count": 4,
   "id": "3311fc9f",
   "metadata": {
    "execution": {
     "iopub.execute_input": "2025-02-19T23:16:30.054660Z",
     "iopub.status.busy": "2025-02-19T23:16:30.054169Z",
     "iopub.status.idle": "2025-02-19T23:16:30.063862Z",
     "shell.execute_reply": "2025-02-19T23:16:30.063281Z"
    }
   },
   "outputs": [
    {
     "name": "stdout",
     "output_type": "stream",
     "text": [
      "USER: text='Hi'\n",
      "ping - ...\n"
     ]
    },
    {
     "name": "stdout",
     "output_type": "stream",
     "text": [
      "... - pong\n"
     ]
    },
    {
     "name": "stdout",
     "output_type": "stream",
     "text": [
      "Ping-pong exchange: completed.\n"
     ]
    },
    {
     "name": "stdout",
     "output_type": "stream",
     "text": [
      "BOT : text='Hi, how are you?'\n"
     ]
    }
   ],
   "source": [
    "if __name__ == \"__main__\":\n",
    "    check_happy_path(pipeline, HAPPY_PATH[:1], printout=True)\n",
    "    if is_interactive_mode():\n",
    "        pipeline.run()"
   ]
  }
 ],
 "metadata": {
  "jupytext": {
   "cell_metadata_filter": "-all",
   "main_language": "python",
   "notebook_metadata_filter": "-all",
   "text_representation": {
    "extension": ".py",
    "format_name": "percent"
   }
  },
  "language_info": {
   "codemirror_mode": {
    "name": "ipython",
    "version": 3
   },
   "file_extension": ".py",
   "mimetype": "text/x-python",
   "name": "python",
   "nbconvert_exporter": "python",
   "pygments_lexer": "ipython3",
   "version": "3.9.21"
  }
 },
 "nbformat": 4,
 "nbformat_minor": 5
}
