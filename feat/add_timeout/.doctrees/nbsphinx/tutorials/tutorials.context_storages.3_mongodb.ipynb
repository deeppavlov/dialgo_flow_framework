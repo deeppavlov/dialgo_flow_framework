{
 "cells": [
  {
   "cell_type": "markdown",
   "id": "62c9487e",
   "metadata": {
    "cell_marker": "\"\"\""
   },
   "source": [
    "# 3. MongoDB\n",
    "\n",
    "This is a tutorial on using MongoDB.\n",
    "\n",
    "See [MongoContextStorage](../apiref/chatsky.context_storages.mongo.rst#chatsky.context_storages.mongo.MongoContextStorage) class\n",
    "for storing you users' contexts in Mongo database.\n",
    "\n",
    "Chatsky uses [motor](https://motor.readthedocs.io/en/stable/)\n",
    "library for asynchronous access to MongoDB."
   ]
  },
  {
   "cell_type": "code",
   "execution_count": 1,
   "id": "21330b60",
   "metadata": {
    "execution": {
     "iopub.execute_input": "2025-02-21T14:18:48.806058Z",
     "iopub.status.busy": "2025-02-21T14:18:48.805785Z",
     "iopub.status.idle": "2025-02-21T14:18:50.049706Z",
     "shell.execute_reply": "2025-02-21T14:18:50.048856Z"
    }
   },
   "outputs": [
    {
     "name": "stdout",
     "output_type": "stream",
     "text": [
      "Note: you may need to restart the kernel to use updated packages.\n"
     ]
    }
   ],
   "source": [
    "# installing dependencies\n",
    "%pip install -q chatsky[mongodb]==0.10.0"
   ]
  },
  {
   "cell_type": "code",
   "execution_count": 2,
   "id": "3f6b6493",
   "metadata": {
    "execution": {
     "iopub.execute_input": "2025-02-21T14:18:50.052147Z",
     "iopub.status.busy": "2025-02-21T14:18:50.051916Z",
     "iopub.status.idle": "2025-02-21T14:18:51.890144Z",
     "shell.execute_reply": "2025-02-21T14:18:51.889491Z"
    },
    "lines_to_next_cell": 2
   },
   "outputs": [],
   "source": [
    "import os\n",
    "\n",
    "from chatsky.context_storages import context_storage_factory\n",
    "\n",
    "from chatsky import Pipeline\n",
    "from chatsky.utils.testing.common import (\n",
    "    check_happy_path,\n",
    "    is_interactive_mode,\n",
    ")\n",
    "from chatsky.utils.testing.toy_script import TOY_SCRIPT_KWARGS, HAPPY_PATH"
   ]
  },
  {
   "cell_type": "code",
   "execution_count": 3,
   "id": "b83fea6f",
   "metadata": {
    "execution": {
     "iopub.execute_input": "2025-02-21T14:18:51.893033Z",
     "iopub.status.busy": "2025-02-21T14:18:51.892468Z",
     "iopub.status.idle": "2025-02-21T14:18:51.933778Z",
     "shell.execute_reply": "2025-02-21T14:18:51.933251Z"
    },
    "lines_to_next_cell": 2
   },
   "outputs": [],
   "source": [
    "db_uri = \"mongodb://{}:{}@localhost:27017/{}\".format(\n",
    "    os.environ[\"MONGO_INITDB_ROOT_USERNAME\"],\n",
    "    os.environ[\"MONGO_INITDB_ROOT_PASSWORD\"],\n",
    "    os.environ[\"MONGO_INITDB_ROOT_USERNAME\"],\n",
    ")\n",
    "db = context_storage_factory(db_uri)\n",
    "\n",
    "pipeline = Pipeline(**TOY_SCRIPT_KWARGS, context_storage=db)"
   ]
  },
  {
   "cell_type": "code",
   "execution_count": 4,
   "id": "df0a4146",
   "metadata": {
    "execution": {
     "iopub.execute_input": "2025-02-21T14:18:51.935951Z",
     "iopub.status.busy": "2025-02-21T14:18:51.935621Z",
     "iopub.status.idle": "2025-02-21T14:18:52.024803Z",
     "shell.execute_reply": "2025-02-21T14:18:52.024091Z"
    }
   },
   "outputs": [
    {
     "name": "stdout",
     "output_type": "stream",
     "text": [
      "USER: text='Hi'\n",
      "BOT : text='Hi, how are you?'\n",
      "USER: text='i'm fine, how are you?'\n",
      "BOT : text='Good. What do you want to talk about?'\n",
      "USER: text='Let's talk about music.'\n",
      "BOT : text='Sorry, I can not talk about music now.'\n",
      "USER: text='Ok, goodbye.'\n",
      "BOT : text='bye'\n",
      "USER: text='Hi'\n",
      "BOT : text='Hi, how are you?'\n"
     ]
    }
   ],
   "source": [
    "if __name__ == \"__main__\":\n",
    "    check_happy_path(pipeline, HAPPY_PATH, printout=True)\n",
    "    if is_interactive_mode():\n",
    "        pipeline.run()"
   ]
  }
 ],
 "metadata": {
  "jupytext": {
   "cell_metadata_filter": "-all",
   "main_language": "python",
   "notebook_metadata_filter": "-all",
   "text_representation": {
    "extension": ".py",
    "format_name": "percent"
   }
  },
  "language_info": {
   "codemirror_mode": {
    "name": "ipython",
    "version": 3
   },
   "file_extension": ".py",
   "mimetype": "text/x-python",
   "name": "python",
   "nbconvert_exporter": "python",
   "pygments_lexer": "ipython3",
   "version": "3.9.21"
  }
 },
 "nbformat": 4,
 "nbformat_minor": 5
}
