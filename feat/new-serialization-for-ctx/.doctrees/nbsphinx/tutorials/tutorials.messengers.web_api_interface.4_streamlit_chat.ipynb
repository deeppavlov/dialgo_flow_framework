{
 "cells": [
  {
   "cell_type": "markdown",
   "id": "183f2a49",
   "metadata": {},
   "source": [
    "# Web API: 4. Streamlit chat interface\n",
    "\n",
    "This tutorial shows how to use an API endpoint created in the FastAPI tutorial\n",
    "in a Streamlit chat.\n",
    "\n",
    "A demonstration of the chat:\n",
    "![demo](https://user-images.githubusercontent.com/61429541/238721597-ef88261d-e9e6-497d-ba68-0bcc9a765808.png)"
   ]
  },
  {
   "cell_type": "code",
   "execution_count": 1,
   "id": "e57b6413",
   "metadata": {
    "execution": {
     "iopub.execute_input": "2025-02-19T23:06:33.479661Z",
     "iopub.status.busy": "2025-02-19T23:06:33.479162Z",
     "iopub.status.idle": "2025-02-19T23:06:34.729786Z",
     "shell.execute_reply": "2025-02-19T23:06:34.728937Z"
    }
   },
   "outputs": [
    {
     "name": "stdout",
     "output_type": "stream",
     "text": [
      "Note: you may need to restart the kernel to use updated packages.\n"
     ]
    }
   ],
   "source": [
    "# installing dependencies\n",
    "%pip install -q chatsky==0.10.0 streamlit==1.40.1 streamlit-chat==0.1.1"
   ]
  },
  {
   "cell_type": "markdown",
   "id": "27c30c4c",
   "metadata": {
    "lines_to_next_cell": 2
   },
   "source": [
    "## Running Streamlit:\n",
    "\n",
    "```bash\n",
    "streamlit run {file_name}\n",
    "```"
   ]
  },
  {
   "cell_type": "markdown",
   "id": "c02e7dc0",
   "metadata": {
    "lines_to_next_cell": 2
   },
   "source": [
    "## Module and package import"
   ]
  },
  {
   "cell_type": "code",
   "execution_count": 2,
   "id": "8316fdac",
   "metadata": {
    "execution": {
     "iopub.execute_input": "2025-02-19T23:06:34.732367Z",
     "iopub.status.busy": "2025-02-19T23:06:34.732157Z",
     "iopub.status.idle": "2025-02-19T23:06:34.736323Z",
     "shell.execute_reply": "2025-02-19T23:06:34.735698Z"
    },
    "lines_to_next_cell": 2
   },
   "outputs": [],
   "source": [
    "###########################################################\n",
    "# This patch is only needed to import Message from chatsky.\n",
    "# Streamlit Chat interface can be written without using it.\n",
    "import asyncio\n",
    "\n",
    "loop = asyncio.new_event_loop()\n",
    "asyncio.set_event_loop(loop)\n",
    "###########################################################"
   ]
  },
  {
   "cell_type": "code",
   "execution_count": 3,
   "id": "397dc331",
   "metadata": {
    "execution": {
     "iopub.execute_input": "2025-02-19T23:06:34.738553Z",
     "iopub.status.busy": "2025-02-19T23:06:34.738167Z",
     "iopub.status.idle": "2025-02-19T23:06:36.922308Z",
     "shell.execute_reply": "2025-02-19T23:06:36.921563Z"
    },
    "lines_to_next_cell": 2
   },
   "outputs": [
    {
     "name": "stderr",
     "output_type": "stream",
     "text": [
      "2025-02-19 23:06:35.237 WARNING streamlit.runtime.scriptrunner_utils.script_run_context: Thread 'MainThread': missing ScriptRunContext! This warning can be ignored when running in bare mode.\n"
     ]
    }
   ],
   "source": [
    "import uuid\n",
    "import itertools\n",
    "\n",
    "import requests\n",
    "import streamlit as st\n",
    "from streamlit_chat import message\n",
    "import streamlit.components.v1 as components\n",
    "from chatsky import Message"
   ]
  },
  {
   "cell_type": "markdown",
   "id": "190c2298",
   "metadata": {
    "lines_to_next_cell": 2
   },
   "source": [
    "## API configuration\n",
    "\n",
    "Here we define methods to contact the API endpoint."
   ]
  },
  {
   "cell_type": "code",
   "execution_count": 4,
   "id": "1c01916f",
   "metadata": {
    "execution": {
     "iopub.execute_input": "2025-02-19T23:06:36.925262Z",
     "iopub.status.busy": "2025-02-19T23:06:36.924714Z",
     "iopub.status.idle": "2025-02-19T23:06:36.928815Z",
     "shell.execute_reply": "2025-02-19T23:06:36.928176Z"
    },
    "lines_to_next_cell": 2
   },
   "outputs": [],
   "source": [
    "API_URL = \"http://localhost:8000/chat\"\n",
    "\n",
    "\n",
    "def query(payload, user_id) -> requests.Response:\n",
    "    response = requests.post(\n",
    "        API_URL + f\"?user_id={user_id}\",\n",
    "        headers={\n",
    "            \"accept\": \"application/json\",\n",
    "            \"Content-Type\": \"application/json\",\n",
    "        },\n",
    "        json=payload,\n",
    "    )\n",
    "    return response"
   ]
  },
  {
   "cell_type": "markdown",
   "id": "a096cb75",
   "metadata": {
    "lines_to_next_cell": 2
   },
   "source": [
    "## Streamlit configuration\n",
    "\n",
    "Here we configure Streamlit page and initialize some session variables:\n",
    "\n",
    "1. `user_id` -- stores user_id to be used in pipeline.\n",
    "2. `bot_responses` -- a list of bot responses.\n",
    "3. `user_requests` -- a list of user requests."
   ]
  },
  {
   "cell_type": "code",
   "execution_count": 5,
   "id": "40d64dc0",
   "metadata": {
    "execution": {
     "iopub.execute_input": "2025-02-19T23:06:36.931262Z",
     "iopub.status.busy": "2025-02-19T23:06:36.930740Z",
     "iopub.status.idle": "2025-02-19T23:06:37.335070Z",
     "shell.execute_reply": "2025-02-19T23:06:37.334398Z"
    },
    "lines_to_next_cell": 2
   },
   "outputs": [
    {
     "name": "stderr",
     "output_type": "stream",
     "text": [
      "2025-02-19 23:06:37.208 WARNING streamlit.runtime.scriptrunner_utils.script_run_context: Thread 'MainThread': missing ScriptRunContext! This warning can be ignored when running in bare mode.\n"
     ]
    },
    {
     "name": "stderr",
     "output_type": "stream",
     "text": [
      "2025-02-19 23:06:37.209 WARNING streamlit.runtime.scriptrunner_utils.script_run_context: Thread 'MainThread': missing ScriptRunContext! This warning can be ignored when running in bare mode.\n"
     ]
    },
    {
     "name": "stderr",
     "output_type": "stream",
     "text": [
      "2025-02-19 23:06:37.323 \n",
      "  \u001b[33m\u001b[1mWarning:\u001b[0m to view this Streamlit app on a browser, run it with the following\n",
      "  command:\n",
      "\n",
      "    streamlit run /home/runner/.cache/pypoetry/virtualenvs/chatsky-T4DtYLUW-py3.9/lib/python3.9/site-packages/ipykernel_launcher.py [ARGUMENTS]\n"
     ]
    },
    {
     "name": "stderr",
     "output_type": "stream",
     "text": [
      "2025-02-19 23:06:37.324 Thread 'MainThread': missing ScriptRunContext! This warning can be ignored when running in bare mode.\n"
     ]
    },
    {
     "name": "stderr",
     "output_type": "stream",
     "text": [
      "2025-02-19 23:06:37.325 Thread 'MainThread': missing ScriptRunContext! This warning can be ignored when running in bare mode.\n"
     ]
    },
    {
     "name": "stderr",
     "output_type": "stream",
     "text": [
      "2025-02-19 23:06:37.326 Session state does not function when running a script without `streamlit run`\n"
     ]
    },
    {
     "name": "stderr",
     "output_type": "stream",
     "text": [
      "2025-02-19 23:06:37.326 Thread 'MainThread': missing ScriptRunContext! This warning can be ignored when running in bare mode.\n"
     ]
    },
    {
     "name": "stderr",
     "output_type": "stream",
     "text": [
      "2025-02-19 23:06:37.327 Thread 'MainThread': missing ScriptRunContext! This warning can be ignored when running in bare mode.\n"
     ]
    },
    {
     "name": "stderr",
     "output_type": "stream",
     "text": [
      "2025-02-19 23:06:37.328 Thread 'MainThread': missing ScriptRunContext! This warning can be ignored when running in bare mode.\n"
     ]
    },
    {
     "name": "stderr",
     "output_type": "stream",
     "text": [
      "2025-02-19 23:06:37.328 Thread 'MainThread': missing ScriptRunContext! This warning can be ignored when running in bare mode.\n"
     ]
    },
    {
     "name": "stderr",
     "output_type": "stream",
     "text": [
      "2025-02-19 23:06:37.329 Thread 'MainThread': missing ScriptRunContext! This warning can be ignored when running in bare mode.\n"
     ]
    },
    {
     "name": "stderr",
     "output_type": "stream",
     "text": [
      "2025-02-19 23:06:37.330 Thread 'MainThread': missing ScriptRunContext! This warning can be ignored when running in bare mode.\n"
     ]
    },
    {
     "name": "stderr",
     "output_type": "stream",
     "text": [
      "2025-02-19 23:06:37.330 Thread 'MainThread': missing ScriptRunContext! This warning can be ignored when running in bare mode.\n"
     ]
    },
    {
     "name": "stderr",
     "output_type": "stream",
     "text": [
      "2025-02-19 23:06:37.330 Thread 'MainThread': missing ScriptRunContext! This warning can be ignored when running in bare mode.\n"
     ]
    }
   ],
   "source": [
    "st.set_page_config(page_title=\"Streamlit Chatsky Chat\", page_icon=\":robot:\")\n",
    "\n",
    "st.header(\"Streamlit Chatsky Chat\")\n",
    "\n",
    "if \"user_id\" not in st.session_state:\n",
    "    st.session_state[\"user_id\"] = str(uuid.uuid4())\n",
    "\n",
    "if \"bot_responses\" not in st.session_state:\n",
    "    st.session_state[\"bot_responses\"] = []\n",
    "\n",
    "if \"user_requests\" not in st.session_state:\n",
    "    st.session_state[\"user_requests\"] = []"
   ]
  },
  {
   "cell_type": "markdown",
   "id": "3b6151dc",
   "metadata": {
    "lines_to_next_cell": 2
   },
   "source": [
    "## UI setup\n",
    "\n",
    "Here we configure elements that will be used\n",
    "in Streamlit to interact with the API.\n",
    "\n",
    "First we define a text input field which\n",
    "a user is supposed to type his requests into.\n",
    "Then we define a button that sends a query\n",
    "to the API, logs requests and responses,\n",
    "and clears the text field."
   ]
  },
  {
   "cell_type": "code",
   "execution_count": 6,
   "id": "42f4b25b",
   "metadata": {
    "execution": {
     "iopub.execute_input": "2025-02-19T23:06:37.337358Z",
     "iopub.status.busy": "2025-02-19T23:06:37.337135Z",
     "iopub.status.idle": "2025-02-19T23:06:37.342506Z",
     "shell.execute_reply": "2025-02-19T23:06:37.341899Z"
    }
   },
   "outputs": [],
   "source": [
    "def send_and_receive():\n",
    "    \"\"\"\n",
    "    Send text inside the input field. Receive response from API endpoint.\n",
    "\n",
    "    Add both the request and response to `user_requests` and `bot_responses`.\n",
    "\n",
    "    We do not call this function inside the `text_input.on_change` because then\n",
    "    we'd call it whenever the text field loses focus\n",
    "    (e.g. when a browser tab is switched).\n",
    "    \"\"\"\n",
    "    user_request = st.session_state[\"input\"]\n",
    "\n",
    "    if user_request == \"\":\n",
    "        return\n",
    "\n",
    "    st.session_state[\"user_requests\"].append(user_request)\n",
    "\n",
    "    bot_response = query(\n",
    "        Message(user_request).model_dump(),\n",
    "        user_id=st.session_state[\"user_id\"],\n",
    "    )\n",
    "    bot_response.raise_for_status()\n",
    "\n",
    "    bot_message = Message.model_validate(bot_response.json()).text\n",
    "\n",
    "    # # Implementation without using Message:\n",
    "    # bot_response = query(\n",
    "    #     {\"text\": user_request},\n",
    "    #     user_id=st.session_state[\"user_id\"]\n",
    "    # )\n",
    "    # bot_response.raise_for_status()\n",
    "    #\n",
    "    # bot_message = bot_response.json()[\"response\"][\"text\"]\n",
    "\n",
    "    st.session_state[\"bot_responses\"].append(bot_message)\n",
    "\n",
    "    st.session_state[\"input\"] = \"\""
   ]
  },
  {
   "cell_type": "code",
   "execution_count": 7,
   "id": "4751c27c",
   "metadata": {
    "execution": {
     "iopub.execute_input": "2025-02-19T23:06:37.344638Z",
     "iopub.status.busy": "2025-02-19T23:06:37.344427Z",
     "iopub.status.idle": "2025-02-19T23:06:37.360159Z",
     "shell.execute_reply": "2025-02-19T23:06:37.359469Z"
    },
    "lines_to_next_cell": 2
   },
   "outputs": [
    {
     "name": "stderr",
     "output_type": "stream",
     "text": [
      "2025-02-19 23:06:37.345 Thread 'MainThread': missing ScriptRunContext! This warning can be ignored when running in bare mode.\n"
     ]
    },
    {
     "name": "stderr",
     "output_type": "stream",
     "text": [
      "2025-02-19 23:06:37.346 Thread 'MainThread': missing ScriptRunContext! This warning can be ignored when running in bare mode.\n"
     ]
    },
    {
     "name": "stderr",
     "output_type": "stream",
     "text": [
      "2025-02-19 23:06:37.347 Thread 'MainThread': missing ScriptRunContext! This warning can be ignored when running in bare mode.\n"
     ]
    },
    {
     "name": "stderr",
     "output_type": "stream",
     "text": [
      "2025-02-19 23:06:37.347 Thread 'MainThread': missing ScriptRunContext! This warning can be ignored when running in bare mode.\n"
     ]
    },
    {
     "name": "stderr",
     "output_type": "stream",
     "text": [
      "2025-02-19 23:06:37.348 Thread 'MainThread': missing ScriptRunContext! This warning can be ignored when running in bare mode.\n"
     ]
    },
    {
     "name": "stderr",
     "output_type": "stream",
     "text": [
      "2025-02-19 23:06:37.350 Thread 'MainThread': missing ScriptRunContext! This warning can be ignored when running in bare mode.\n"
     ]
    },
    {
     "name": "stderr",
     "output_type": "stream",
     "text": [
      "2025-02-19 23:06:37.351 Thread 'MainThread': missing ScriptRunContext! This warning can be ignored when running in bare mode.\n"
     ]
    },
    {
     "name": "stderr",
     "output_type": "stream",
     "text": [
      "2025-02-19 23:06:37.351 Thread 'MainThread': missing ScriptRunContext! This warning can be ignored when running in bare mode.\n"
     ]
    },
    {
     "name": "stderr",
     "output_type": "stream",
     "text": [
      "2025-02-19 23:06:37.352 Thread 'MainThread': missing ScriptRunContext! This warning can be ignored when running in bare mode.\n"
     ]
    },
    {
     "name": "stderr",
     "output_type": "stream",
     "text": [
      "2025-02-19 23:06:37.352 Thread 'MainThread': missing ScriptRunContext! This warning can be ignored when running in bare mode.\n"
     ]
    },
    {
     "name": "stderr",
     "output_type": "stream",
     "text": [
      "2025-02-19 23:06:37.353 Thread 'MainThread': missing ScriptRunContext! This warning can be ignored when running in bare mode.\n"
     ]
    },
    {
     "data": {
      "text/plain": [
       "False"
      ]
     },
     "execution_count": 7,
     "metadata": {},
     "output_type": "execute_result"
    }
   ],
   "source": [
    "st.text_input(\"You: \", key=\"input\")\n",
    "st.button(\"Send\", on_click=send_and_receive)"
   ]
  },
  {
   "cell_type": "markdown",
   "id": "fc18e3ae",
   "metadata": {
    "lines_to_next_cell": 2
   },
   "source": [
    "### Component patch\n",
    "\n",
    "Here we add a component that presses the\n",
    "`Send` button whenever user presses the `Enter` key."
   ]
  },
  {
   "cell_type": "code",
   "execution_count": 8,
   "id": "aba9a284",
   "metadata": {
    "execution": {
     "iopub.execute_input": "2025-02-19T23:06:37.362562Z",
     "iopub.status.busy": "2025-02-19T23:06:37.362345Z",
     "iopub.status.idle": "2025-02-19T23:06:37.370311Z",
     "shell.execute_reply": "2025-02-19T23:06:37.369656Z"
    },
    "lines_to_next_cell": 2
   },
   "outputs": [
    {
     "name": "stderr",
     "output_type": "stream",
     "text": [
      "2025-02-19 23:06:37.363 Thread 'MainThread': missing ScriptRunContext! This warning can be ignored when running in bare mode.\n"
     ]
    },
    {
     "name": "stderr",
     "output_type": "stream",
     "text": [
      "2025-02-19 23:06:37.364 Thread 'MainThread': missing ScriptRunContext! This warning can be ignored when running in bare mode.\n"
     ]
    },
    {
     "data": {
      "text/plain": [
       "DeltaGenerator()"
      ]
     },
     "execution_count": 8,
     "metadata": {},
     "output_type": "execute_result"
    }
   ],
   "source": [
    "components.html(\n",
    "    \"\"\"\n",
    "<script>\n",
    "const doc = window.parent.document;\n",
    "buttons = Array.from(doc.querySelectorAll('button[kind=secondary]'));\n",
    "const send_button = buttons.find(el => el.innerText === 'Send');\n",
    "doc.addEventListener('keypress', function(e) {\n",
    "    switch (e.keyCode) {\n",
    "        case 13: // (13 = Enter key)\n",
    "            send_button.click();\n",
    "            break;\n",
    "    }\n",
    "});\n",
    "</script>\n",
    "\"\"\",\n",
    "    height=0,\n",
    "    width=0,\n",
    ")"
   ]
  },
  {
   "cell_type": "markdown",
   "id": "f733f537",
   "metadata": {
    "lines_to_next_cell": 2
   },
   "source": [
    "### Message display\n",
    "\n",
    "Here we use the `streamlit-chat` package to\n",
    "display user requests and bot responses."
   ]
  },
  {
   "cell_type": "code",
   "execution_count": 9,
   "id": "6bfdf901",
   "metadata": {
    "execution": {
     "iopub.execute_input": "2025-02-19T23:06:37.372918Z",
     "iopub.status.busy": "2025-02-19T23:06:37.372452Z",
     "iopub.status.idle": "2025-02-19T23:06:37.378743Z",
     "shell.execute_reply": "2025-02-19T23:06:37.378068Z"
    }
   },
   "outputs": [
    {
     "name": "stderr",
     "output_type": "stream",
     "text": [
      "2025-02-19 23:06:37.374 Thread 'MainThread': missing ScriptRunContext! This warning can be ignored when running in bare mode.\n"
     ]
    },
    {
     "name": "stderr",
     "output_type": "stream",
     "text": [
      "2025-02-19 23:06:37.375 Thread 'MainThread': missing ScriptRunContext! This warning can be ignored when running in bare mode.\n"
     ]
    }
   ],
   "source": [
    "for i, bot_response, user_request in zip(\n",
    "    itertools.count(0),\n",
    "    st.session_state.get(\"bot_responses\", []),\n",
    "    st.session_state.get(\"user_requests\", []),\n",
    "):\n",
    "    message(user_request, key=f\"{i}_user\", is_user=True)\n",
    "    message(bot_response, key=f\"{i}_bot\")"
   ]
  }
 ],
 "metadata": {
  "jupytext": {
   "cell_metadata_filter": "-all",
   "main_language": "python",
   "notebook_metadata_filter": "-all",
   "text_representation": {
    "extension": ".py",
    "format_name": "percent"
   }
  },
  "language_info": {
   "codemirror_mode": {
    "name": "ipython",
    "version": 3
   },
   "file_extension": ".py",
   "mimetype": "text/x-python",
   "name": "python",
   "nbconvert_exporter": "python",
   "pygments_lexer": "ipython3",
   "version": "3.9.21"
  }
 },
 "nbformat": 4,
 "nbformat_minor": 5
}
