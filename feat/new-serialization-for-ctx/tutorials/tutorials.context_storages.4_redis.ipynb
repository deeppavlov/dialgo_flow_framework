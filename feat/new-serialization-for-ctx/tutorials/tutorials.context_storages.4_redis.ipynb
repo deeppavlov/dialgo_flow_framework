{
 "cells": [
  {
   "cell_type": "markdown",
   "id": "8a323ff9",
   "metadata": {
    "cell_marker": "\"\"\""
   },
   "source": [
    "# 4. Redis\n",
    "\n",
    "This is a tutorial on using Redis.\n",
    "\n",
    "See [RedisContextStorage](../apiref/chatsky.context_storages.redis.rst#chatsky.context_storages.redis.RedisContextStorage) class\n",
    "for storing you users' contexts in Redis database.\n",
    "\n",
    "Chatsky uses [redis.asyncio](https://redis.readthedocs.io/en/latest/)\n",
    "library for asynchronous access to Redis DB."
   ]
  },
  {
   "cell_type": "code",
   "execution_count": 1,
   "id": "3b3ab067",
   "metadata": {
    "execution": {
     "iopub.execute_input": "2025-02-20T01:57:40.522074Z",
     "iopub.status.busy": "2025-02-20T01:57:40.521555Z",
     "iopub.status.idle": "2025-02-20T01:57:41.682859Z",
     "shell.execute_reply": "2025-02-20T01:57:41.682110Z"
    }
   },
   "outputs": [
    {
     "name": "stdout",
     "output_type": "stream",
     "text": [
      "Note: you may need to restart the kernel to use updated packages.\n"
     ]
    }
   ],
   "source": [
    "# installing dependencies\n",
    "%pip install -q chatsky[redis]==0.10.0"
   ]
  },
  {
   "cell_type": "code",
   "execution_count": 2,
   "id": "34b2e6bc",
   "metadata": {
    "execution": {
     "iopub.execute_input": "2025-02-20T01:57:41.685606Z",
     "iopub.status.busy": "2025-02-20T01:57:41.685026Z",
     "iopub.status.idle": "2025-02-20T01:57:43.365681Z",
     "shell.execute_reply": "2025-02-20T01:57:43.365063Z"
    },
    "lines_to_next_cell": 2
   },
   "outputs": [],
   "source": [
    "import os\n",
    "\n",
    "from chatsky.context_storages import context_storage_factory\n",
    "\n",
    "from chatsky import Pipeline\n",
    "from chatsky.utils.testing.common import (\n",
    "    check_happy_path,\n",
    "    is_interactive_mode,\n",
    ")\n",
    "from chatsky.utils.testing.toy_script import TOY_SCRIPT_KWARGS, HAPPY_PATH"
   ]
  },
  {
   "cell_type": "code",
   "execution_count": 3,
   "id": "01116006",
   "metadata": {
    "execution": {
     "iopub.execute_input": "2025-02-20T01:57:43.368545Z",
     "iopub.status.busy": "2025-02-20T01:57:43.367958Z",
     "iopub.status.idle": "2025-02-20T01:57:43.372485Z",
     "shell.execute_reply": "2025-02-20T01:57:43.371908Z"
    },
    "lines_to_next_cell": 2
   },
   "outputs": [],
   "source": [
    "db_uri = \"redis://{}:{}@localhost:6379/{}\".format(\n",
    "    \"\", os.environ[\"REDIS_PASSWORD\"], \"0\"\n",
    ")\n",
    "db = context_storage_factory(db_uri)\n",
    "\n",
    "\n",
    "pipeline = Pipeline(**TOY_SCRIPT_KWARGS, context_storage=db)"
   ]
  },
  {
   "cell_type": "code",
   "execution_count": 4,
   "id": "c0e8ea03",
   "metadata": {
    "execution": {
     "iopub.execute_input": "2025-02-20T01:57:43.374767Z",
     "iopub.status.busy": "2025-02-20T01:57:43.374247Z",
     "iopub.status.idle": "2025-02-20T01:57:43.431347Z",
     "shell.execute_reply": "2025-02-20T01:57:43.430711Z"
    }
   },
   "outputs": [
    {
     "name": "stdout",
     "output_type": "stream",
     "text": [
      "USER: text='Hi'\n",
      "BOT : text='Hi, how are you?'\n",
      "USER: text='i'm fine, how are you?'\n",
      "BOT : text='Good. What do you want to talk about?'\n",
      "USER: text='Let's talk about music.'\n",
      "BOT : text='Sorry, I can not talk about music now.'\n",
      "USER: text='Ok, goodbye.'\n",
      "BOT : text='bye'\n",
      "USER: text='Hi'\n",
      "BOT : text='Hi, how are you?'\n"
     ]
    }
   ],
   "source": [
    "if __name__ == \"__main__\":\n",
    "    check_happy_path(pipeline, HAPPY_PATH, printout=True)\n",
    "    if is_interactive_mode():\n",
    "        pipeline.run()"
   ]
  }
 ],
 "metadata": {
  "jupytext": {
   "cell_metadata_filter": "-all",
   "main_language": "python",
   "notebook_metadata_filter": "-all",
   "text_representation": {
    "extension": ".py",
    "format_name": "percent"
   }
  },
  "language_info": {
   "codemirror_mode": {
    "name": "ipython",
    "version": 3
   },
   "file_extension": ".py",
   "mimetype": "text/x-python",
   "name": "python",
   "nbconvert_exporter": "python",
   "pygments_lexer": "ipython3",
   "version": "3.9.21"
  }
 },
 "nbformat": 4,
 "nbformat_minor": 5
}
