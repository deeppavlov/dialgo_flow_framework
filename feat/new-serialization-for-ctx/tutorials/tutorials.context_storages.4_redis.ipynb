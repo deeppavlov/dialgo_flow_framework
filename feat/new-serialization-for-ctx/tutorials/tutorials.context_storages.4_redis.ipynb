{
 "cells": [
  {
   "cell_type": "markdown",
   "id": "b77153d7",
   "metadata": {
    "cell_marker": "\"\"\""
   },
   "source": [
    "# 4. Redis\n",
    "\n",
    "This is a tutorial on using Redis.\n",
    "\n",
    "See [RedisContextStorage](../apiref/chatsky.context_storages.redis.rst#chatsky.context_storages.redis.RedisContextStorage) class\n",
    "for storing you users' contexts in Redis database.\n",
    "\n",
    "Chatsky uses [redis.asyncio](https://redis.readthedocs.io/en/latest/)\n",
    "library for asynchronous access to Redis DB."
   ]
  },
  {
   "cell_type": "code",
   "execution_count": 1,
   "id": "0ce97d73",
   "metadata": {
    "execution": {
     "iopub.execute_input": "2025-02-20T01:15:27.625384Z",
     "iopub.status.busy": "2025-02-20T01:15:27.624723Z",
     "iopub.status.idle": "2025-02-20T01:15:28.934532Z",
     "shell.execute_reply": "2025-02-20T01:15:28.933696Z"
    }
   },
   "outputs": [
    {
     "name": "stdout",
     "output_type": "stream",
     "text": [
      "Note: you may need to restart the kernel to use updated packages.\n"
     ]
    }
   ],
   "source": [
    "# installing dependencies\n",
    "%pip install -q chatsky[redis]==0.10.0"
   ]
  },
  {
   "cell_type": "code",
   "execution_count": 2,
   "id": "cc1dac79",
   "metadata": {
    "execution": {
     "iopub.execute_input": "2025-02-20T01:15:28.937298Z",
     "iopub.status.busy": "2025-02-20T01:15:28.936809Z",
     "iopub.status.idle": "2025-02-20T01:15:30.637892Z",
     "shell.execute_reply": "2025-02-20T01:15:30.637244Z"
    },
    "lines_to_next_cell": 2
   },
   "outputs": [],
   "source": [
    "import os\n",
    "\n",
    "from chatsky.context_storages import context_storage_factory\n",
    "\n",
    "from chatsky import Pipeline\n",
    "from chatsky.utils.testing.common import (\n",
    "    check_happy_path,\n",
    "    is_interactive_mode,\n",
    ")\n",
    "from chatsky.utils.testing.toy_script import TOY_SCRIPT_KWARGS, HAPPY_PATH"
   ]
  },
  {
   "cell_type": "code",
   "execution_count": 3,
   "id": "17be90d6",
   "metadata": {
    "execution": {
     "iopub.execute_input": "2025-02-20T01:15:30.640521Z",
     "iopub.status.busy": "2025-02-20T01:15:30.640141Z",
     "iopub.status.idle": "2025-02-20T01:15:30.644892Z",
     "shell.execute_reply": "2025-02-20T01:15:30.644179Z"
    },
    "lines_to_next_cell": 2
   },
   "outputs": [],
   "source": [
    "db_uri = \"redis://{}:{}@localhost:6379/{}\".format(\n",
    "    \"\", os.environ[\"REDIS_PASSWORD\"], \"0\"\n",
    ")\n",
    "db = context_storage_factory(db_uri)\n",
    "\n",
    "\n",
    "pipeline = Pipeline(**TOY_SCRIPT_KWARGS, context_storage=db)"
   ]
  },
  {
   "cell_type": "code",
   "execution_count": 4,
   "id": "21417ce5",
   "metadata": {
    "execution": {
     "iopub.execute_input": "2025-02-20T01:15:30.647121Z",
     "iopub.status.busy": "2025-02-20T01:15:30.646751Z",
     "iopub.status.idle": "2025-02-20T01:15:30.707930Z",
     "shell.execute_reply": "2025-02-20T01:15:30.707277Z"
    }
   },
   "outputs": [
    {
     "name": "stdout",
     "output_type": "stream",
     "text": [
      "USER: text='Hi'\n",
      "BOT : text='Hi, how are you?'\n",
      "USER: text='i'm fine, how are you?'\n",
      "BOT : text='Good. What do you want to talk about?'\n",
      "USER: text='Let's talk about music.'\n",
      "BOT : text='Sorry, I can not talk about music now.'\n",
      "USER: text='Ok, goodbye.'\n",
      "BOT : text='bye'\n",
      "USER: text='Hi'\n",
      "BOT : text='Hi, how are you?'\n"
     ]
    }
   ],
   "source": [
    "if __name__ == \"__main__\":\n",
    "    check_happy_path(pipeline, HAPPY_PATH, printout=True)\n",
    "    if is_interactive_mode():\n",
    "        pipeline.run()"
   ]
  }
 ],
 "metadata": {
  "jupytext": {
   "cell_metadata_filter": "-all",
   "main_language": "python",
   "notebook_metadata_filter": "-all",
   "text_representation": {
    "extension": ".py",
    "format_name": "percent"
   }
  },
  "language_info": {
   "codemirror_mode": {
    "name": "ipython",
    "version": 3
   },
   "file_extension": ".py",
   "mimetype": "text/x-python",
   "name": "python",
   "nbconvert_exporter": "python",
   "pygments_lexer": "ipython3",
   "version": "3.9.21"
  }
 },
 "nbformat": 4,
 "nbformat_minor": 5
}
