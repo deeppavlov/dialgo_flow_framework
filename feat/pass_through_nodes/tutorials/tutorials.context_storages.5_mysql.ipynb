{
 "cells": [
  {
   "cell_type": "markdown",
   "id": "fde3a583",
   "metadata": {
    "cell_marker": "\"\"\""
   },
   "source": [
    "# 5. MySQL\n",
    "\n",
    "This is a tutorial on using MySQL.\n",
    "\n",
    "See [SQLContextStorage](../apiref/chatsky.context_storages.sql.rst#chatsky.context_storages.sql.SQLContextStorage) class\n",
    "for storing you users' contexts in SQL databases.\n",
    "\n",
    "Chatsky uses [sqlalchemy](https://docs.sqlalchemy.org/en/20/)\n",
    "and [asyncmy](https://github.com/long2ice/asyncmy)\n",
    "libraries for asynchronous access to MySQL DB."
   ]
  },
  {
   "cell_type": "code",
   "execution_count": 1,
   "id": "09041d06",
   "metadata": {
    "execution": {
     "iopub.execute_input": "2025-02-21T14:36:59.299152Z",
     "iopub.status.busy": "2025-02-21T14:36:59.298640Z",
     "iopub.status.idle": "2025-02-21T14:37:01.027495Z",
     "shell.execute_reply": "2025-02-21T14:37:01.026652Z"
    }
   },
   "outputs": [
    {
     "name": "stdout",
     "output_type": "stream",
     "text": [
      "Note: you may need to restart the kernel to use updated packages.\n"
     ]
    }
   ],
   "source": [
    "# installing dependencies\n",
    "%pip install -q chatsky[mysql]==0.10.0"
   ]
  },
  {
   "cell_type": "code",
   "execution_count": 2,
   "id": "2e755a06",
   "metadata": {
    "execution": {
     "iopub.execute_input": "2025-02-21T14:37:01.029983Z",
     "iopub.status.busy": "2025-02-21T14:37:01.029742Z",
     "iopub.status.idle": "2025-02-21T14:37:02.692062Z",
     "shell.execute_reply": "2025-02-21T14:37:02.691398Z"
    },
    "lines_to_next_cell": 2
   },
   "outputs": [],
   "source": [
    "import os\n",
    "\n",
    "from chatsky.context_storages import context_storage_factory\n",
    "\n",
    "from chatsky import Pipeline\n",
    "from chatsky.utils.testing.common import (\n",
    "    check_happy_path,\n",
    "    is_interactive_mode,\n",
    ")\n",
    "from chatsky.utils.testing.toy_script import TOY_SCRIPT_KWARGS, HAPPY_PATH"
   ]
  },
  {
   "cell_type": "code",
   "execution_count": 3,
   "id": "c294ed47",
   "metadata": {
    "execution": {
     "iopub.execute_input": "2025-02-21T14:37:02.694881Z",
     "iopub.status.busy": "2025-02-21T14:37:02.694535Z",
     "iopub.status.idle": "2025-02-21T14:37:02.744950Z",
     "shell.execute_reply": "2025-02-21T14:37:02.744196Z"
    },
    "lines_to_next_cell": 2
   },
   "outputs": [],
   "source": [
    "db_uri = \"mysql+asyncmy://{}:{}@localhost:3307/{}\".format(\n",
    "    os.environ[\"MYSQL_USERNAME\"],\n",
    "    os.environ[\"MYSQL_PASSWORD\"],\n",
    "    os.environ[\"MYSQL_DATABASE\"],\n",
    ")\n",
    "db = context_storage_factory(db_uri)\n",
    "\n",
    "\n",
    "pipeline = Pipeline(**TOY_SCRIPT_KWARGS, context_storage=db)"
   ]
  },
  {
   "cell_type": "code",
   "execution_count": 4,
   "id": "cc7cc754",
   "metadata": {
    "execution": {
     "iopub.execute_input": "2025-02-21T14:37:02.747302Z",
     "iopub.status.busy": "2025-02-21T14:37:02.747082Z",
     "iopub.status.idle": "2025-02-21T14:37:02.945219Z",
     "shell.execute_reply": "2025-02-21T14:37:02.944423Z"
    }
   },
   "outputs": [
    {
     "name": "stdout",
     "output_type": "stream",
     "text": [
      "USER: text='Hi'\n",
      "BOT : text='Hi, how are you?'\n",
      "USER: text='i'm fine, how are you?'\n",
      "BOT : text='Good. What do you want to talk about?'\n",
      "USER: text='Let's talk about music.'\n",
      "BOT : text='Sorry, I can not talk about music now.'\n",
      "USER: text='Ok, goodbye.'\n",
      "BOT : text='bye'\n",
      "USER: text='Hi'\n",
      "BOT : text='Hi, how are you?'\n"
     ]
    }
   ],
   "source": [
    "if __name__ == \"__main__\":\n",
    "    check_happy_path(pipeline, HAPPY_PATH, printout=True)\n",
    "    if is_interactive_mode():\n",
    "        pipeline.run()"
   ]
  }
 ],
 "metadata": {
  "jupytext": {
   "cell_metadata_filter": "-all",
   "main_language": "python",
   "notebook_metadata_filter": "-all",
   "text_representation": {
    "extension": ".py",
    "format_name": "percent"
   }
  },
  "language_info": {
   "codemirror_mode": {
    "name": "ipython",
    "version": 3
   },
   "file_extension": ".py",
   "mimetype": "text/x-python",
   "name": "python",
   "nbconvert_exporter": "python",
   "pygments_lexer": "ipython3",
   "version": "3.9.21"
  }
 },
 "nbformat": 4,
 "nbformat_minor": 5
}
