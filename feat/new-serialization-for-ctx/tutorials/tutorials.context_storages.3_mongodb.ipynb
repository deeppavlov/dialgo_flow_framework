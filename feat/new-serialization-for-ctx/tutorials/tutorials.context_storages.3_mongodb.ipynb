{
 "cells": [
  {
   "cell_type": "markdown",
   "id": "73c7f5bc",
   "metadata": {
    "cell_marker": "\"\"\""
   },
   "source": [
    "# 3. MongoDB\n",
    "\n",
    "This is a tutorial on using MongoDB.\n",
    "\n",
    "See [MongoContextStorage](../apiref/chatsky.context_storages.mongo.rst#chatsky.context_storages.mongo.MongoContextStorage) class\n",
    "for storing you users' contexts in Mongo database.\n",
    "\n",
    "Chatsky uses [motor](https://motor.readthedocs.io/en/stable/)\n",
    "library for asynchronous access to MongoDB."
   ]
  },
  {
   "cell_type": "code",
   "execution_count": 1,
   "id": "952e9089",
   "metadata": {
    "execution": {
     "iopub.execute_input": "2025-02-20T02:11:45.470266Z",
     "iopub.status.busy": "2025-02-20T02:11:45.469679Z",
     "iopub.status.idle": "2025-02-20T02:11:46.704669Z",
     "shell.execute_reply": "2025-02-20T02:11:46.703773Z"
    }
   },
   "outputs": [
    {
     "name": "stdout",
     "output_type": "stream",
     "text": [
      "Note: you may need to restart the kernel to use updated packages.\n"
     ]
    }
   ],
   "source": [
    "# installing dependencies\n",
    "%pip install -q chatsky[mongodb]==0.10.0"
   ]
  },
  {
   "cell_type": "code",
   "execution_count": 2,
   "id": "b1c88152",
   "metadata": {
    "execution": {
     "iopub.execute_input": "2025-02-20T02:11:46.707448Z",
     "iopub.status.busy": "2025-02-20T02:11:46.706922Z",
     "iopub.status.idle": "2025-02-20T02:11:48.355876Z",
     "shell.execute_reply": "2025-02-20T02:11:48.355194Z"
    },
    "lines_to_next_cell": 2
   },
   "outputs": [],
   "source": [
    "import os\n",
    "\n",
    "from chatsky.context_storages import context_storage_factory\n",
    "\n",
    "from chatsky import Pipeline\n",
    "from chatsky.utils.testing.common import (\n",
    "    check_happy_path,\n",
    "    is_interactive_mode,\n",
    ")\n",
    "from chatsky.utils.testing.toy_script import TOY_SCRIPT_KWARGS, HAPPY_PATH"
   ]
  },
  {
   "cell_type": "code",
   "execution_count": 3,
   "id": "2a45d318",
   "metadata": {
    "execution": {
     "iopub.execute_input": "2025-02-20T02:11:48.358452Z",
     "iopub.status.busy": "2025-02-20T02:11:48.358123Z",
     "iopub.status.idle": "2025-02-20T02:11:48.398405Z",
     "shell.execute_reply": "2025-02-20T02:11:48.397833Z"
    },
    "lines_to_next_cell": 2
   },
   "outputs": [],
   "source": [
    "db_uri = \"mongodb://{}:{}@localhost:27017/{}\".format(\n",
    "    os.environ[\"MONGO_INITDB_ROOT_USERNAME\"],\n",
    "    os.environ[\"MONGO_INITDB_ROOT_PASSWORD\"],\n",
    "    os.environ[\"MONGO_INITDB_ROOT_USERNAME\"],\n",
    ")\n",
    "db = context_storage_factory(db_uri)\n",
    "\n",
    "pipeline = Pipeline(**TOY_SCRIPT_KWARGS, context_storage=db)"
   ]
  },
  {
   "cell_type": "code",
   "execution_count": 4,
   "id": "1e38b4b3",
   "metadata": {
    "execution": {
     "iopub.execute_input": "2025-02-20T02:11:48.400745Z",
     "iopub.status.busy": "2025-02-20T02:11:48.400336Z",
     "iopub.status.idle": "2025-02-20T02:11:48.487920Z",
     "shell.execute_reply": "2025-02-20T02:11:48.487397Z"
    }
   },
   "outputs": [
    {
     "name": "stdout",
     "output_type": "stream",
     "text": [
      "USER: text='Hi'\n",
      "BOT : text='Hi, how are you?'\n",
      "USER: text='i'm fine, how are you?'\n",
      "BOT : text='Good. What do you want to talk about?'\n",
      "USER: text='Let's talk about music.'\n",
      "BOT : text='Sorry, I can not talk about music now.'\n",
      "USER: text='Ok, goodbye.'\n",
      "BOT : text='bye'\n",
      "USER: text='Hi'\n",
      "BOT : text='Hi, how are you?'\n"
     ]
    }
   ],
   "source": [
    "if __name__ == \"__main__\":\n",
    "    check_happy_path(pipeline, HAPPY_PATH, printout=True)\n",
    "    if is_interactive_mode():\n",
    "        pipeline.run()"
   ]
  }
 ],
 "metadata": {
  "jupytext": {
   "cell_metadata_filter": "-all",
   "main_language": "python",
   "notebook_metadata_filter": "-all",
   "text_representation": {
    "extension": ".py",
    "format_name": "percent"
   }
  },
  "language_info": {
   "codemirror_mode": {
    "name": "ipython",
    "version": 3
   },
   "file_extension": ".py",
   "mimetype": "text/x-python",
   "name": "python",
   "nbconvert_exporter": "python",
   "pygments_lexer": "ipython3",
   "version": "3.9.21"
  }
 },
 "nbformat": 4,
 "nbformat_minor": 5
}
