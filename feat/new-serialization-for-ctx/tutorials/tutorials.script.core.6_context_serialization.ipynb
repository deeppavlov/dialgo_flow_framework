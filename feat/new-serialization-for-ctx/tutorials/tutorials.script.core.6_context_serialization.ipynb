{
 "cells": [
  {
   "cell_type": "markdown",
   "id": "2ab4f683",
   "metadata": {
    "cell_marker": "\"\"\""
   },
   "source": [
    "# Core: 6. Context serialization"
   ]
  },
  {
   "cell_type": "code",
   "execution_count": 1,
   "id": "4984c6bc",
   "metadata": {
    "execution": {
     "iopub.execute_input": "2025-02-20T02:37:58.169804Z",
     "iopub.status.busy": "2025-02-20T02:37:58.169505Z",
     "iopub.status.idle": "2025-02-20T02:37:59.369630Z",
     "shell.execute_reply": "2025-02-20T02:37:59.368780Z"
    }
   },
   "outputs": [
    {
     "name": "stdout",
     "output_type": "stream",
     "text": [
      "Note: you may need to restart the kernel to use updated packages.\n"
     ]
    }
   ],
   "source": [
    "# installing dependencies\n",
    "%pip install -q chatsky==0.10.0"
   ]
  },
  {
   "cell_type": "code",
   "execution_count": 2,
   "id": "9b9bec85",
   "metadata": {
    "execution": {
     "iopub.execute_input": "2025-02-20T02:37:59.372324Z",
     "iopub.status.busy": "2025-02-20T02:37:59.371800Z",
     "iopub.status.idle": "2025-02-20T02:38:01.090295Z",
     "shell.execute_reply": "2025-02-20T02:38:01.089493Z"
    }
   },
   "outputs": [],
   "source": [
    "import logging\n",
    "\n",
    "from chatsky import (\n",
    "    TRANSITIONS,\n",
    "    RESPONSE,\n",
    "    Context,\n",
    "    Pipeline,\n",
    "    Transition as Tr,\n",
    "    BaseResponse,\n",
    "    MessageInitTypes,\n",
    ")\n",
    "\n",
    "from chatsky.utils.testing.common import (\n",
    "    check_happy_path,\n",
    "    is_interactive_mode,\n",
    ")"
   ]
  },
  {
   "cell_type": "code",
   "execution_count": 3,
   "id": "8dc347bc",
   "metadata": {
    "execution": {
     "iopub.execute_input": "2025-02-20T02:38:01.093242Z",
     "iopub.status.busy": "2025-02-20T02:38:01.092914Z",
     "iopub.status.idle": "2025-02-20T02:38:01.097253Z",
     "shell.execute_reply": "2025-02-20T02:38:01.096677Z"
    }
   },
   "outputs": [],
   "source": [
    "class RequestCounter(BaseResponse):\n",
    "    async def call(self, ctx: Context) -> MessageInitTypes:\n",
    "        return f\"answer {len(ctx.requests)}\""
   ]
  },
  {
   "cell_type": "code",
   "execution_count": 4,
   "id": "6762e313",
   "metadata": {
    "execution": {
     "iopub.execute_input": "2025-02-20T02:38:01.099929Z",
     "iopub.status.busy": "2025-02-20T02:38:01.099672Z",
     "iopub.status.idle": "2025-02-20T02:38:01.103939Z",
     "shell.execute_reply": "2025-02-20T02:38:01.103189Z"
    }
   },
   "outputs": [],
   "source": [
    "toy_script = {\n",
    "    \"flow_start\": {\n",
    "        \"node_start\": {\n",
    "            RESPONSE: RequestCounter(),\n",
    "            TRANSITIONS: [Tr(dst=(\"flow_start\", \"node_start\"))],\n",
    "        }\n",
    "    }\n",
    "}\n",
    "\n",
    "# testing\n",
    "happy_path = (\n",
    "    (\"hi\", \"answer 1\"),\n",
    "    (\"how are you?\", \"answer 2\"),\n",
    "    (\"ok\", \"answer 3\"),\n",
    "    (\"good\", \"answer 4\"),\n",
    ")"
   ]
  },
  {
   "cell_type": "markdown",
   "id": "a9fbd242",
   "metadata": {
    "cell_marker": "\"\"\""
   },
   "source": [
    "Draft function that performs serialization."
   ]
  },
  {
   "cell_type": "code",
   "execution_count": 5,
   "id": "060c90d8",
   "metadata": {
    "execution": {
     "iopub.execute_input": "2025-02-20T02:38:01.106691Z",
     "iopub.status.busy": "2025-02-20T02:38:01.106200Z",
     "iopub.status.idle": "2025-02-20T02:38:01.112149Z",
     "shell.execute_reply": "2025-02-20T02:38:01.111450Z"
    }
   },
   "outputs": [],
   "source": [
    "def process_response(ctx: Context):\n",
    "    ctx_json = ctx.model_dump_json()\n",
    "    if isinstance(ctx_json, str):\n",
    "        logging.info(\"context serialized to json str\")\n",
    "    else:\n",
    "        raise Exception(f\"ctx={ctx_json} has to be serialized to json string\")\n",
    "\n",
    "    ctx_dict = ctx.model_dump()\n",
    "    if isinstance(ctx_dict, dict):\n",
    "        logging.info(\"context serialized to dict\")\n",
    "    else:\n",
    "        raise Exception(f\"ctx={ctx_dict} has to be serialized to dict\")\n",
    "\n",
    "    if not isinstance(ctx, Context):\n",
    "        raise Exception(f\"ctx={ctx} has to have Context type\")"
   ]
  },
  {
   "cell_type": "code",
   "execution_count": 6,
   "id": "61e36a9f",
   "metadata": {
    "execution": {
     "iopub.execute_input": "2025-02-20T02:38:01.114269Z",
     "iopub.status.busy": "2025-02-20T02:38:01.114039Z",
     "iopub.status.idle": "2025-02-20T02:38:01.141772Z",
     "shell.execute_reply": "2025-02-20T02:38:01.141007Z"
    }
   },
   "outputs": [
    {
     "name": "stdout",
     "output_type": "stream",
     "text": [
      "USER: text='hi'\n",
      "BOT : text='answer 1'\n",
      "USER: text='how are you?'\n",
      "BOT : text='answer 2'\n",
      "USER: text='ok'\n",
      "BOT : text='answer 3'\n",
      "USER: text='good'\n",
      "BOT : text='answer 4'\n"
     ]
    }
   ],
   "source": [
    "pipeline = Pipeline(\n",
    "    script=toy_script,\n",
    "    start_label=(\"flow_start\", \"node_start\"),\n",
    "    post_services=[process_response],\n",
    ")\n",
    "\n",
    "if __name__ == \"__main__\":\n",
    "    check_happy_path(pipeline, happy_path, printout=True)\n",
    "    if is_interactive_mode():\n",
    "        pipeline.run()"
   ]
  }
 ],
 "metadata": {
  "jupytext": {
   "cell_metadata_filter": "-all",
   "main_language": "python",
   "notebook_metadata_filter": "-all",
   "text_representation": {
    "extension": ".py",
    "format_name": "percent"
   }
  },
  "language_info": {
   "codemirror_mode": {
    "name": "ipython",
    "version": 3
   },
   "file_extension": ".py",
   "mimetype": "text/x-python",
   "name": "python",
   "nbconvert_exporter": "python",
   "pygments_lexer": "ipython3",
   "version": "3.9.21"
  }
 },
 "nbformat": 4,
 "nbformat_minor": 5
}
