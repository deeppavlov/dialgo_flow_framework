{
 "cells": [
  {
   "cell_type": "markdown",
   "id": "704eebba",
   "metadata": {
    "cell_marker": "\"\"\""
   },
   "source": [
    "# Core: 6. Context serialization"
   ]
  },
  {
   "cell_type": "code",
   "execution_count": 1,
   "id": "1ec1cffb",
   "metadata": {
    "execution": {
     "iopub.execute_input": "2025-02-20T02:14:20.084462Z",
     "iopub.status.busy": "2025-02-20T02:14:20.083914Z",
     "iopub.status.idle": "2025-02-20T02:14:21.359602Z",
     "shell.execute_reply": "2025-02-20T02:14:21.358873Z"
    }
   },
   "outputs": [
    {
     "name": "stdout",
     "output_type": "stream",
     "text": [
      "Note: you may need to restart the kernel to use updated packages.\n"
     ]
    }
   ],
   "source": [
    "# installing dependencies\n",
    "%pip install -q chatsky==0.10.0"
   ]
  },
  {
   "cell_type": "code",
   "execution_count": 2,
   "id": "d28a0378",
   "metadata": {
    "execution": {
     "iopub.execute_input": "2025-02-20T02:14:21.362319Z",
     "iopub.status.busy": "2025-02-20T02:14:21.361763Z",
     "iopub.status.idle": "2025-02-20T02:14:23.007109Z",
     "shell.execute_reply": "2025-02-20T02:14:23.006453Z"
    }
   },
   "outputs": [],
   "source": [
    "import logging\n",
    "\n",
    "from chatsky import (\n",
    "    TRANSITIONS,\n",
    "    RESPONSE,\n",
    "    Context,\n",
    "    Pipeline,\n",
    "    Transition as Tr,\n",
    "    BaseResponse,\n",
    "    MessageInitTypes,\n",
    ")\n",
    "\n",
    "from chatsky.utils.testing.common import (\n",
    "    check_happy_path,\n",
    "    is_interactive_mode,\n",
    ")"
   ]
  },
  {
   "cell_type": "code",
   "execution_count": 3,
   "id": "62a73462",
   "metadata": {
    "execution": {
     "iopub.execute_input": "2025-02-20T02:14:23.009927Z",
     "iopub.status.busy": "2025-02-20T02:14:23.009421Z",
     "iopub.status.idle": "2025-02-20T02:14:23.013456Z",
     "shell.execute_reply": "2025-02-20T02:14:23.012921Z"
    }
   },
   "outputs": [],
   "source": [
    "class RequestCounter(BaseResponse):\n",
    "    async def call(self, ctx: Context) -> MessageInitTypes:\n",
    "        return f\"answer {len(ctx.requests)}\""
   ]
  },
  {
   "cell_type": "code",
   "execution_count": 4,
   "id": "c39f7384",
   "metadata": {
    "execution": {
     "iopub.execute_input": "2025-02-20T02:14:23.015639Z",
     "iopub.status.busy": "2025-02-20T02:14:23.015146Z",
     "iopub.status.idle": "2025-02-20T02:14:23.019242Z",
     "shell.execute_reply": "2025-02-20T02:14:23.018629Z"
    }
   },
   "outputs": [],
   "source": [
    "toy_script = {\n",
    "    \"flow_start\": {\n",
    "        \"node_start\": {\n",
    "            RESPONSE: RequestCounter(),\n",
    "            TRANSITIONS: [Tr(dst=(\"flow_start\", \"node_start\"))],\n",
    "        }\n",
    "    }\n",
    "}\n",
    "\n",
    "# testing\n",
    "happy_path = (\n",
    "    (\"hi\", \"answer 1\"),\n",
    "    (\"how are you?\", \"answer 2\"),\n",
    "    (\"ok\", \"answer 3\"),\n",
    "    (\"good\", \"answer 4\"),\n",
    ")"
   ]
  },
  {
   "cell_type": "markdown",
   "id": "ac320583",
   "metadata": {
    "cell_marker": "\"\"\""
   },
   "source": [
    "Draft function that performs serialization."
   ]
  },
  {
   "cell_type": "code",
   "execution_count": 5,
   "id": "4d0b8ae3",
   "metadata": {
    "execution": {
     "iopub.execute_input": "2025-02-20T02:14:23.021398Z",
     "iopub.status.busy": "2025-02-20T02:14:23.020952Z",
     "iopub.status.idle": "2025-02-20T02:14:23.025432Z",
     "shell.execute_reply": "2025-02-20T02:14:23.024878Z"
    }
   },
   "outputs": [],
   "source": [
    "def process_response(ctx: Context):\n",
    "    ctx_json = ctx.model_dump_json()\n",
    "    if isinstance(ctx_json, str):\n",
    "        logging.info(\"context serialized to json str\")\n",
    "    else:\n",
    "        raise Exception(f\"ctx={ctx_json} has to be serialized to json string\")\n",
    "\n",
    "    ctx_dict = ctx.model_dump()\n",
    "    if isinstance(ctx_dict, dict):\n",
    "        logging.info(\"context serialized to dict\")\n",
    "    else:\n",
    "        raise Exception(f\"ctx={ctx_dict} has to be serialized to dict\")\n",
    "\n",
    "    if not isinstance(ctx, Context):\n",
    "        raise Exception(f\"ctx={ctx} has to have Context type\")"
   ]
  },
  {
   "cell_type": "code",
   "execution_count": 6,
   "id": "b6f73d0b",
   "metadata": {
    "execution": {
     "iopub.execute_input": "2025-02-20T02:14:23.027608Z",
     "iopub.status.busy": "2025-02-20T02:14:23.027222Z",
     "iopub.status.idle": "2025-02-20T02:14:23.047084Z",
     "shell.execute_reply": "2025-02-20T02:14:23.046419Z"
    }
   },
   "outputs": [
    {
     "name": "stdout",
     "output_type": "stream",
     "text": [
      "USER: text='hi'\n",
      "BOT : text='answer 1'\n",
      "USER: text='how are you?'\n",
      "BOT : text='answer 2'\n",
      "USER: text='ok'\n",
      "BOT : text='answer 3'\n",
      "USER: text='good'\n",
      "BOT : text='answer 4'\n"
     ]
    }
   ],
   "source": [
    "pipeline = Pipeline(\n",
    "    script=toy_script,\n",
    "    start_label=(\"flow_start\", \"node_start\"),\n",
    "    post_services=[process_response],\n",
    ")\n",
    "\n",
    "if __name__ == \"__main__\":\n",
    "    check_happy_path(pipeline, happy_path, printout=True)\n",
    "    if is_interactive_mode():\n",
    "        pipeline.run()"
   ]
  }
 ],
 "metadata": {
  "jupytext": {
   "cell_metadata_filter": "-all",
   "main_language": "python",
   "notebook_metadata_filter": "-all",
   "text_representation": {
    "extension": ".py",
    "format_name": "percent"
   }
  },
  "language_info": {
   "codemirror_mode": {
    "name": "ipython",
    "version": 3
   },
   "file_extension": ".py",
   "mimetype": "text/x-python",
   "name": "python",
   "nbconvert_exporter": "python",
   "pygments_lexer": "ipython3",
   "version": "3.9.21"
  }
 },
 "nbformat": 4,
 "nbformat_minor": 5
}
