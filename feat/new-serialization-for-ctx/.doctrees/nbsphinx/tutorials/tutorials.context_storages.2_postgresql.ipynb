{
 "cells": [
  {
   "cell_type": "markdown",
   "id": "607a2f27",
   "metadata": {
    "cell_marker": "\"\"\""
   },
   "source": [
    "# 2. PostgreSQL\n",
    "\n",
    "This is a tutorial on using PostgreSQL.\n",
    "\n",
    "See [SQLContextStorage](../apiref/chatsky.context_storages.sql.rst#chatsky.context_storages.sql.SQLContextStorage) class\n",
    "for storing your users' contexts in SQL databases.\n",
    "\n",
    "Chatsky uses [sqlalchemy](https://docs.sqlalchemy.org/en/20/)\n",
    "and [asyncpg](https://magicstack.github.io/asyncpg/current/)\n",
    "libraries for asynchronous access to PostgreSQL DB."
   ]
  },
  {
   "cell_type": "code",
   "execution_count": 1,
   "id": "e8bf0f09",
   "metadata": {
    "execution": {
     "iopub.execute_input": "2025-02-20T01:57:29.897818Z",
     "iopub.status.busy": "2025-02-20T01:57:29.897601Z",
     "iopub.status.idle": "2025-02-20T01:57:31.103359Z",
     "shell.execute_reply": "2025-02-20T01:57:31.102463Z"
    }
   },
   "outputs": [
    {
     "name": "stdout",
     "output_type": "stream",
     "text": [
      "Note: you may need to restart the kernel to use updated packages.\n"
     ]
    }
   ],
   "source": [
    "# installing dependencies\n",
    "%pip install -q chatsky[postgresql]==0.10.0"
   ]
  },
  {
   "cell_type": "code",
   "execution_count": 2,
   "id": "8d64bd01",
   "metadata": {
    "execution": {
     "iopub.execute_input": "2025-02-20T01:57:31.106071Z",
     "iopub.status.busy": "2025-02-20T01:57:31.105587Z",
     "iopub.status.idle": "2025-02-20T01:57:32.821531Z",
     "shell.execute_reply": "2025-02-20T01:57:32.820522Z"
    },
    "lines_to_next_cell": 2
   },
   "outputs": [],
   "source": [
    "import os\n",
    "\n",
    "from chatsky.context_storages import context_storage_factory\n",
    "\n",
    "from chatsky import Pipeline\n",
    "from chatsky.utils.testing.common import (\n",
    "    check_happy_path,\n",
    "    is_interactive_mode,\n",
    ")\n",
    "from chatsky.utils.testing.toy_script import TOY_SCRIPT_KWARGS, HAPPY_PATH"
   ]
  },
  {
   "cell_type": "code",
   "execution_count": 3,
   "id": "e82aaf46",
   "metadata": {
    "execution": {
     "iopub.execute_input": "2025-02-20T01:57:32.825039Z",
     "iopub.status.busy": "2025-02-20T01:57:32.824252Z",
     "iopub.status.idle": "2025-02-20T01:57:32.915100Z",
     "shell.execute_reply": "2025-02-20T01:57:32.914431Z"
    },
    "lines_to_next_cell": 2
   },
   "outputs": [],
   "source": [
    "db_uri = \"postgresql+asyncpg://{}:{}@localhost:5432/{}\".format(\n",
    "    os.environ[\"POSTGRES_USERNAME\"],\n",
    "    os.environ[\"POSTGRES_PASSWORD\"],\n",
    "    os.environ[\"POSTGRES_DB\"],\n",
    ")\n",
    "db = context_storage_factory(db_uri)\n",
    "\n",
    "\n",
    "pipeline = Pipeline(**TOY_SCRIPT_KWARGS, context_storage=db)"
   ]
  },
  {
   "cell_type": "code",
   "execution_count": 4,
   "id": "91fd450f",
   "metadata": {
    "execution": {
     "iopub.execute_input": "2025-02-20T01:57:32.917808Z",
     "iopub.status.busy": "2025-02-20T01:57:32.917481Z",
     "iopub.status.idle": "2025-02-20T01:57:33.549951Z",
     "shell.execute_reply": "2025-02-20T01:57:33.549119Z"
    }
   },
   "outputs": [
    {
     "name": "stdout",
     "output_type": "stream",
     "text": [
      "USER: text='Hi'\n"
     ]
    },
    {
     "name": "stdout",
     "output_type": "stream",
     "text": [
      "BOT : text='Hi, how are you?'\n",
      "USER: text='i'm fine, how are you?'\n",
      "BOT : text='Good. What do you want to talk about?'\n",
      "USER: text='Let's talk about music.'\n",
      "BOT : text='Sorry, I can not talk about music now.'\n",
      "USER: text='Ok, goodbye.'\n"
     ]
    },
    {
     "name": "stdout",
     "output_type": "stream",
     "text": [
      "BOT : text='bye'\n",
      "USER: text='Hi'\n",
      "BOT : text='Hi, how are you?'\n"
     ]
    }
   ],
   "source": [
    "if __name__ == \"__main__\":\n",
    "    check_happy_path(pipeline, HAPPY_PATH, printout=True)\n",
    "    if is_interactive_mode():\n",
    "        pipeline.run()"
   ]
  }
 ],
 "metadata": {
  "jupytext": {
   "cell_metadata_filter": "-all",
   "main_language": "python",
   "notebook_metadata_filter": "-all",
   "text_representation": {
    "extension": ".py",
    "format_name": "percent"
   }
  },
  "language_info": {
   "codemirror_mode": {
    "name": "ipython",
    "version": 3
   },
   "file_extension": ".py",
   "mimetype": "text/x-python",
   "name": "python",
   "nbconvert_exporter": "python",
   "pygments_lexer": "ipython3",
   "version": "3.9.21"
  }
 },
 "nbformat": 4,
 "nbformat_minor": 5
}
