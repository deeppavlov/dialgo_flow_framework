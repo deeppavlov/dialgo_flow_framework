{
 "cells": [
  {
   "cell_type": "markdown",
   "id": "e99fc35f",
   "metadata": {
    "cell_marker": "\"\"\""
   },
   "source": [
    "# 6. SQLite\n",
    "\n",
    "This is a tutorial on using SQLite.\n",
    "\n",
    "See [SQLContextStorage](../apiref/chatsky.context_storages.sql.rst#chatsky.context_storages.sql.SQLContextStorage) class\n",
    "for storing you users' contexts in SQL databases.\n",
    "\n",
    "Chatsky uses [sqlalchemy](https://docs.sqlalchemy.org/en/20/)\n",
    "and [aiosqlite](https://readthedocs.org/projects/aiosqlite/)\n",
    "libraries for asynchronous access to SQLite DB.\n",
    "\n",
    "Note that protocol separator for windows differs from one for linux."
   ]
  },
  {
   "cell_type": "code",
   "execution_count": 1,
   "id": "0e9330b2",
   "metadata": {
    "execution": {
     "iopub.execute_input": "2025-02-20T01:15:37.466833Z",
     "iopub.status.busy": "2025-02-20T01:15:37.466588Z",
     "iopub.status.idle": "2025-02-20T01:15:38.710739Z",
     "shell.execute_reply": "2025-02-20T01:15:38.709728Z"
    }
   },
   "outputs": [
    {
     "name": "stdout",
     "output_type": "stream",
     "text": [
      "Note: you may need to restart the kernel to use updated packages.\n"
     ]
    }
   ],
   "source": [
    "# installing dependencies\n",
    "%pip install -q chatsky[sqlite]==0.10.0"
   ]
  },
  {
   "cell_type": "code",
   "execution_count": 2,
   "id": "0673153a",
   "metadata": {
    "execution": {
     "iopub.execute_input": "2025-02-20T01:15:38.713667Z",
     "iopub.status.busy": "2025-02-20T01:15:38.713406Z",
     "iopub.status.idle": "2025-02-20T01:15:40.551320Z",
     "shell.execute_reply": "2025-02-20T01:15:40.550600Z"
    },
    "lines_to_next_cell": 2
   },
   "outputs": [],
   "source": [
    "import pathlib\n",
    "from platform import system\n",
    "\n",
    "from chatsky.context_storages import context_storage_factory\n",
    "\n",
    "from chatsky import Pipeline\n",
    "from chatsky.utils.testing.common import (\n",
    "    check_happy_path,\n",
    "    is_interactive_mode,\n",
    ")\n",
    "from chatsky.utils.testing.toy_script import TOY_SCRIPT_KWARGS, HAPPY_PATH"
   ]
  },
  {
   "cell_type": "code",
   "execution_count": 3,
   "id": "b1214aa3",
   "metadata": {
    "execution": {
     "iopub.execute_input": "2025-02-20T01:15:40.554367Z",
     "iopub.status.busy": "2025-02-20T01:15:40.553740Z",
     "iopub.status.idle": "2025-02-20T01:15:40.585961Z",
     "shell.execute_reply": "2025-02-20T01:15:40.585329Z"
    },
    "lines_to_next_cell": 2
   },
   "outputs": [],
   "source": [
    "pathlib.Path(\"dbs\").mkdir(exist_ok=True)\n",
    "db_file = pathlib.Path(\"dbs/sqlite.db\")\n",
    "db_file.touch(exist_ok=True)\n",
    "\n",
    "separator = \"///\" if system() == \"Windows\" else \"////\"\n",
    "db_uri = f\"sqlite+aiosqlite:{separator}{db_file.absolute()}\"\n",
    "db = context_storage_factory(db_uri)\n",
    "\n",
    "\n",
    "pipeline = Pipeline(**TOY_SCRIPT_KWARGS, context_storage=db)"
   ]
  },
  {
   "cell_type": "code",
   "execution_count": 4,
   "id": "85c98f71",
   "metadata": {
    "execution": {
     "iopub.execute_input": "2025-02-20T01:15:40.588799Z",
     "iopub.status.busy": "2025-02-20T01:15:40.588339Z",
     "iopub.status.idle": "2025-02-20T01:15:40.732122Z",
     "shell.execute_reply": "2025-02-20T01:15:40.731339Z"
    }
   },
   "outputs": [
    {
     "name": "stdout",
     "output_type": "stream",
     "text": [
      "USER: text='Hi'\n",
      "BOT : text='Hi, how are you?'\n",
      "USER: text='i'm fine, how are you?'\n",
      "BOT : text='Good. What do you want to talk about?'\n",
      "USER: text='Let's talk about music.'\n",
      "BOT : text='Sorry, I can not talk about music now.'\n",
      "USER: text='Ok, goodbye.'\n",
      "BOT : text='bye'\n",
      "USER: text='Hi'\n",
      "BOT : text='Hi, how are you?'\n"
     ]
    }
   ],
   "source": [
    "if __name__ == \"__main__\":\n",
    "    check_happy_path(pipeline, HAPPY_PATH, printout=True)\n",
    "    if is_interactive_mode():\n",
    "        pipeline.run()"
   ]
  }
 ],
 "metadata": {
  "jupytext": {
   "cell_metadata_filter": "-all",
   "main_language": "python",
   "notebook_metadata_filter": "-all",
   "text_representation": {
    "extension": ".py",
    "format_name": "percent"
   }
  },
  "language_info": {
   "codemirror_mode": {
    "name": "ipython",
    "version": 3
   },
   "file_extension": ".py",
   "mimetype": "text/x-python",
   "name": "python",
   "nbconvert_exporter": "python",
   "pygments_lexer": "ipython3",
   "version": "3.9.21"
  }
 },
 "nbformat": 4,
 "nbformat_minor": 5
}
