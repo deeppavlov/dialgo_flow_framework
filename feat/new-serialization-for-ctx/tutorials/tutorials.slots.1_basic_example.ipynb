{
 "cells": [
  {
   "cell_type": "markdown",
   "id": "de07918f",
   "metadata": {
    "cell_marker": "\"\"\""
   },
   "source": [
    "# 1. Basic Example\n",
    "\n",
    "The following tutorial shows basic usage of slots extraction\n",
    "module packaged with `chatsky`."
   ]
  },
  {
   "cell_type": "code",
   "execution_count": 1,
   "id": "4a1d3867",
   "metadata": {
    "execution": {
     "iopub.execute_input": "2025-02-20T02:15:12.045721Z",
     "iopub.status.busy": "2025-02-20T02:15:12.045207Z",
     "iopub.status.idle": "2025-02-20T02:15:13.226153Z",
     "shell.execute_reply": "2025-02-20T02:15:13.225183Z"
    }
   },
   "outputs": [
    {
     "name": "stdout",
     "output_type": "stream",
     "text": [
      "Note: you may need to restart the kernel to use updated packages.\n"
     ]
    }
   ],
   "source": [
    "# installing dependencies\n",
    "%pip install -q chatsky==0.10.0"
   ]
  },
  {
   "cell_type": "code",
   "execution_count": 2,
   "id": "5c04771a",
   "metadata": {
    "execution": {
     "iopub.execute_input": "2025-02-20T02:15:13.228945Z",
     "iopub.status.busy": "2025-02-20T02:15:13.228691Z",
     "iopub.status.idle": "2025-02-20T02:15:14.932920Z",
     "shell.execute_reply": "2025-02-20T02:15:14.932277Z"
    }
   },
   "outputs": [],
   "source": [
    "from chatsky import (\n",
    "    RESPONSE,\n",
    "    TRANSITIONS,\n",
    "    PRE_TRANSITION,\n",
    "    PRE_RESPONSE,\n",
    "    GLOBAL,\n",
    "    LOCAL,\n",
    "    Pipeline,\n",
    "    Transition as Tr,\n",
    "    conditions as cnd,\n",
    "    processing as proc,\n",
    "    responses as rsp,\n",
    ")\n",
    "\n",
    "from chatsky.slots import RegexpSlot\n",
    "\n",
    "from chatsky.utils.testing import (\n",
    "    check_happy_path,\n",
    "    is_interactive_mode,\n",
    ")"
   ]
  },
  {
   "cell_type": "markdown",
   "id": "e9f2ab69",
   "metadata": {
    "cell_marker": "\"\"\""
   },
   "source": [
    "The slots fall into the following category groups:\n",
    "\n",
    "- Value slots can be used to extract slot values from user utterances.\n",
    "- Group slots can be used to split value slots into groups\n",
    "    with an arbitrary level of nesting.\n",
    "\n",
    "You can build the slot tree by passing the child slot instances as extra fields\n",
    "of the parent slot. In the following cell, we define two slot groups:\n",
    "\n",
    "    Group 1: person.username, person.email\n",
    "    Group 2: friend.first_name, friend.last_name\n",
    "\n",
    "Currently there are two types of value slots:\n",
    "\n",
    "- [RegexpSlot](../apiref/chatsky.slots.slots.rst#chatsky.slots.slots.RegexpSlot):\n",
    "    Extracts slot values via regexp.\n",
    "- [FunctionSlot](../apiref/chatsky.slots.slots.rst#chatsky.slots.slots.FunctionSlot):\n",
    "    Extracts slot values with the help of a user-defined function."
   ]
  },
  {
   "cell_type": "code",
   "execution_count": 3,
   "id": "dfeacc65",
   "metadata": {
    "execution": {
     "iopub.execute_input": "2025-02-20T02:15:14.936043Z",
     "iopub.status.busy": "2025-02-20T02:15:14.935352Z",
     "iopub.status.idle": "2025-02-20T02:15:14.939684Z",
     "shell.execute_reply": "2025-02-20T02:15:14.939106Z"
    }
   },
   "outputs": [],
   "source": [
    "SLOTS = {\n",
    "    \"person\": {\n",
    "        \"username\": RegexpSlot(\n",
    "            regexp=r\"username is ([a-zA-Z]+)\",\n",
    "            match_group_idx=1,\n",
    "        ),\n",
    "        \"email\": RegexpSlot(\n",
    "            regexp=r\"email is ([a-z@\\.A-Z]+)\",\n",
    "            match_group_idx=1,\n",
    "        ),\n",
    "    },\n",
    "    \"friend\": {\n",
    "        \"first_name\": RegexpSlot(regexp=r\"^[A-Z][a-z]+?(?= )\"),\n",
    "        \"last_name\": RegexpSlot(regexp=r\"(?<= )[A-Z][a-z]+\"),\n",
    "    },\n",
    "}"
   ]
  },
  {
   "cell_type": "markdown",
   "id": "225c2c68",
   "metadata": {
    "cell_marker": "\"\"\""
   },
   "source": [
    "The slots module provides several functions for managing slots in-script:\n",
    "\n",
    "- [SlotsExtracted](../apiref/chatsky.conditions.slots.rst#chatsky.conditions.slots.SlotsExtracted):\n",
    "    Condition for checking if specified slots are extracted.\n",
    "- [Extract](../apiref/chatsky.processing.slots.rst#chatsky.processing.slots.Extract):\n",
    "    A processing function that extracts specified slots.\n",
    "- [Unset](../apiref/chatsky.processing.slots.rst#chatsky.processing.slots.Unset):\n",
    "    A processing function that marks specified slots as not extracted,\n",
    "    effectively resetting their state.\n",
    "- [UnsetAll](../apiref/chatsky.processing.slots.rst#chatsky.processing.slots.UnsetAll):\n",
    "    A processing function that marks all slots as not extracted.\n",
    "- [FillTemplate](../apiref/chatsky.processing.slots.rst#chatsky.processing.slots.FillTemplate):\n",
    "    A processing function that fills the `response`\n",
    "    Message text with extracted slot values.\n",
    "- [FilledTemplate](../apiref/chatsky.responses.slots.rst#chatsky.responses.slots.FilledTemplate):\n",
    "    A response function that takes a Message with a\n",
    "    format-string text and returns Message\n",
    "    with its text string filled with extracted slot values.\n",
    "\n",
    "The usage of all the above functions is shown in the following script:"
   ]
  },
  {
   "cell_type": "code",
   "execution_count": 4,
   "id": "3575f7d3",
   "metadata": {
    "execution": {
     "iopub.execute_input": "2025-02-20T02:15:14.941724Z",
     "iopub.status.busy": "2025-02-20T02:15:14.941474Z",
     "iopub.status.idle": "2025-02-20T02:15:14.950793Z",
     "shell.execute_reply": "2025-02-20T02:15:14.950055Z"
    }
   },
   "outputs": [],
   "source": [
    "script = {\n",
    "    GLOBAL: {\n",
    "        TRANSITIONS: [\n",
    "            Tr(dst=(\"username_flow\", \"ask\"), cnd=cnd.Regexp(r\"^[sS]tart\"))\n",
    "        ]\n",
    "    },\n",
    "    \"username_flow\": {\n",
    "        LOCAL: {\n",
    "            PRE_TRANSITION: {\"get_slot\": proc.Extract(\"person.username\")},\n",
    "            TRANSITIONS: [\n",
    "                Tr(\n",
    "                    dst=(\"email_flow\", \"ask\"),\n",
    "                    cnd=cnd.SlotsExtracted(\"person.username\"),\n",
    "                    priority=1.2,\n",
    "                ),\n",
    "                Tr(dst=(\"username_flow\", \"repeat_question\"), priority=0.8),\n",
    "            ],\n",
    "        },\n",
    "        \"ask\": {\n",
    "            RESPONSE: \"Write your username (my username is ...):\",\n",
    "        },\n",
    "        \"repeat_question\": {\n",
    "            RESPONSE: \"Please, type your username again (my username is ...):\",\n",
    "        },\n",
    "    },\n",
    "    \"email_flow\": {\n",
    "        LOCAL: {\n",
    "            PRE_TRANSITION: {\"get_slot\": proc.Extract(\"person.email\")},\n",
    "            TRANSITIONS: [\n",
    "                Tr(\n",
    "                    dst=(\"friend_flow\", \"ask\"),\n",
    "                    cnd=cnd.SlotsExtracted(\"person.username\", \"person.email\"),\n",
    "                    priority=1.2,\n",
    "                ),\n",
    "                Tr(dst=(\"email_flow\", \"repeat_question\"), priority=0.8),\n",
    "            ],\n",
    "        },\n",
    "        \"ask\": {\n",
    "            RESPONSE: \"Write your email (my email is ...):\",\n",
    "        },\n",
    "        \"repeat_question\": {\n",
    "            RESPONSE: \"Please, write your email again (my email is ...):\",\n",
    "        },\n",
    "    },\n",
    "    \"friend_flow\": {\n",
    "        LOCAL: {\n",
    "            PRE_TRANSITION: {\"get_slots\": proc.Extract(\"friend\")},\n",
    "            TRANSITIONS: [\n",
    "                Tr(\n",
    "                    dst=(\"root\", \"utter\"),\n",
    "                    cnd=cnd.SlotsExtracted(\n",
    "                        \"friend.first_name\", \"friend.last_name\", mode=\"any\"\n",
    "                    ),\n",
    "                    priority=1.2,\n",
    "                ),\n",
    "                Tr(dst=(\"friend_flow\", \"repeat_question\"), priority=0.8),\n",
    "            ],\n",
    "        },\n",
    "        \"ask\": {RESPONSE: \"Please, name me one of your friends: (John Doe)\"},\n",
    "        \"repeat_question\": {\n",
    "            RESPONSE: \"Please, name me one of your friends again: (John Doe)\"\n",
    "        },\n",
    "    },\n",
    "    \"root\": {\n",
    "        \"start\": {\n",
    "            TRANSITIONS: [Tr(dst=(\"username_flow\", \"ask\"))],\n",
    "        },\n",
    "        \"fallback\": {\n",
    "            RESPONSE: \"Finishing query\",\n",
    "            TRANSITIONS: [Tr(dst=(\"username_flow\", \"ask\"))],\n",
    "        },\n",
    "        \"utter\": {\n",
    "            RESPONSE: rsp.FilledTemplate(\n",
    "                \"Your friend is {friend.first_name} {friend.last_name}\"\n",
    "            ),\n",
    "            TRANSITIONS: [Tr(dst=(\"root\", \"utter_alternative\"))],\n",
    "        },\n",
    "        \"utter_alternative\": {\n",
    "            RESPONSE: \"Your username is {person.username}. \"\n",
    "            \"Your email is {person.email}.\",\n",
    "            PRE_RESPONSE: {\"fill\": proc.FillTemplate()},\n",
    "        },\n",
    "    },\n",
    "}"
   ]
  },
  {
   "cell_type": "code",
   "execution_count": 5,
   "id": "4072d215",
   "metadata": {
    "execution": {
     "iopub.execute_input": "2025-02-20T02:15:14.953300Z",
     "iopub.status.busy": "2025-02-20T02:15:14.952821Z",
     "iopub.status.idle": "2025-02-20T02:15:14.956471Z",
     "shell.execute_reply": "2025-02-20T02:15:14.955881Z"
    }
   },
   "outputs": [],
   "source": [
    "HAPPY_PATH = [\n",
    "    (\"hi\", \"Write your username (my username is ...):\"),\n",
    "    (\"my username is groot\", \"Write your email (my email is ...):\"),\n",
    "    (\n",
    "        \"my email is groot@gmail.com\",\n",
    "        \"Please, name me one of your friends: (John Doe)\",\n",
    "    ),\n",
    "    (\"Bob Page\", \"Your friend is Bob Page\"),\n",
    "    (\"ok\", \"Your username is groot. Your email is groot@gmail.com.\"),\n",
    "    (\"ok\", \"Finishing query\"),\n",
    "]"
   ]
  },
  {
   "cell_type": "code",
   "execution_count": 6,
   "id": "0274e3c2",
   "metadata": {
    "execution": {
     "iopub.execute_input": "2025-02-20T02:15:14.958727Z",
     "iopub.status.busy": "2025-02-20T02:15:14.958254Z",
     "iopub.status.idle": "2025-02-20T02:15:14.987957Z",
     "shell.execute_reply": "2025-02-20T02:15:14.987247Z"
    }
   },
   "outputs": [
    {
     "name": "stdout",
     "output_type": "stream",
     "text": [
      "USER: text='hi'\n",
      "BOT : text='Write your username (my username is ...):'\n",
      "USER: text='my username is groot'\n",
      "BOT : text='Write your email (my email is ...):'\n",
      "USER: text='my email is groot@gmail.com'\n",
      "BOT : text='Please, name me one of your friends: (John Doe)'\n",
      "USER: text='Bob Page'\n",
      "BOT : text='Your friend is Bob Page'\n",
      "USER: text='ok'\n",
      "BOT : text='Your username is groot. Your email is groot@gmail.com.'\n",
      "USER: text='ok'\n",
      "BOT : text='Finishing query'\n"
     ]
    }
   ],
   "source": [
    "pipeline = Pipeline(\n",
    "    script=script,\n",
    "    start_label=(\"root\", \"start\"),\n",
    "    fallback_label=(\"root\", \"fallback\"),\n",
    "    slots=SLOTS,\n",
    ")\n",
    "\n",
    "if __name__ == \"__main__\":\n",
    "    check_happy_path(\n",
    "        pipeline, HAPPY_PATH, printout=True\n",
    "    )  # This is a function for automatic tutorial running\n",
    "    # (testing) with HAPPY_PATH\n",
    "\n",
    "    if is_interactive_mode():\n",
    "        pipeline.run()"
   ]
  }
 ],
 "metadata": {
  "jupytext": {
   "cell_metadata_filter": "-all",
   "main_language": "python",
   "notebook_metadata_filter": "-all",
   "text_representation": {
    "extension": ".py",
    "format_name": "percent"
   }
  },
  "language_info": {
   "codemirror_mode": {
    "name": "ipython",
    "version": 3
   },
   "file_extension": ".py",
   "mimetype": "text/x-python",
   "name": "python",
   "nbconvert_exporter": "python",
   "pygments_lexer": "ipython3",
   "version": "3.9.21"
  }
 },
 "nbformat": 4,
 "nbformat_minor": 5
}
