{
 "cells": [
  {
   "cell_type": "markdown",
   "id": "1b23009d",
   "metadata": {
    "cell_marker": "\"\"\""
   },
   "source": [
    "# 2. Pipeline Integration\n",
    "\n",
    "In the Chatsky ecosystem, extractor functions act as regular extra handlers (\n",
    "[see the extra handlers tutorial](\n",
    "../tutorials/tutorials.service.5_extra_handlers.py\n",
    ")\n",
    ").\n",
    "Hence, you can decorate any part of your pipeline, including services,\n",
    "service groups and the pipeline as a whole, to obtain the statistics\n",
    "specific for that component. Some examples of this functionality\n",
    "are showcased in this tutorial.\n",
    "\n",
    "<div class=\"alert alert-info\">\n",
    "\n",
    "Both the Opentelemetry collector and the Clickhouse instance must be running\n",
    "during statistics collection.\n",
    "If you cloned the Chatsky repo, launch them using `docker compose`:\n",
    "```bash\n",
    "docker compose --profile stats up\n",
    "```\n",
    "\n",
    "</div>"
   ]
  },
  {
   "cell_type": "code",
   "execution_count": 1,
   "id": "7a4c8096",
   "metadata": {
    "execution": {
     "iopub.execute_input": "2025-02-21T14:22:33.073900Z",
     "iopub.status.busy": "2025-02-21T14:22:33.073666Z",
     "iopub.status.idle": "2025-02-21T14:22:34.280937Z",
     "shell.execute_reply": "2025-02-21T14:22:34.280090Z"
    }
   },
   "outputs": [
    {
     "name": "stdout",
     "output_type": "stream",
     "text": [
      "Note: you may need to restart the kernel to use updated packages.\n"
     ]
    }
   ],
   "source": [
    "# installing dependencies\n",
    "%pip install -q chatsky[stats]==0.10.0"
   ]
  },
  {
   "cell_type": "code",
   "execution_count": 2,
   "id": "dd5b86b3",
   "metadata": {
    "execution": {
     "iopub.execute_input": "2025-02-21T14:22:34.283502Z",
     "iopub.status.busy": "2025-02-21T14:22:34.283065Z",
     "iopub.status.idle": "2025-02-21T14:22:36.142633Z",
     "shell.execute_reply": "2025-02-21T14:22:36.142001Z"
    }
   },
   "outputs": [],
   "source": [
    "import asyncio\n",
    "\n",
    "from chatsky.core.service import (\n",
    "    ExtraHandlerRuntimeInfo,\n",
    "    ServiceGroup,\n",
    "    ExtraHandlerType,\n",
    ")\n",
    "from chatsky import Context, Pipeline\n",
    "from chatsky.stats import OTLPLogExporter, OTLPSpanExporter\n",
    "from chatsky.stats import (\n",
    "    OtelInstrumentor,\n",
    "    set_logger_destination,\n",
    "    set_tracer_destination,\n",
    ")\n",
    "from chatsky.stats import default_extractors\n",
    "from chatsky.utils.testing import is_interactive_mode, check_happy_path\n",
    "from chatsky.utils.testing.toy_script import TOY_SCRIPT_KWARGS, HAPPY_PATH"
   ]
  },
  {
   "cell_type": "code",
   "execution_count": 3,
   "id": "4abf5695",
   "metadata": {
    "execution": {
     "iopub.execute_input": "2025-02-21T14:22:36.145282Z",
     "iopub.status.busy": "2025-02-21T14:22:36.144910Z",
     "iopub.status.idle": "2025-02-21T14:22:36.152685Z",
     "shell.execute_reply": "2025-02-21T14:22:36.152039Z"
    },
    "lines_to_next_cell": 2
   },
   "outputs": [],
   "source": [
    "set_logger_destination(OTLPLogExporter(\"grpc://localhost:4317\", insecure=True))\n",
    "set_tracer_destination(OTLPSpanExporter(\"grpc://localhost:4317\", insecure=True))\n",
    "chatsky_instrumentor = OtelInstrumentor()\n",
    "chatsky_instrumentor.instrument()\n",
    "\n",
    "\n",
    "# example extractor function\n",
    "@chatsky_instrumentor\n",
    "async def get_service_state(ctx: Context, info: ExtraHandlerRuntimeInfo):\n",
    "    # extract execution state of service from info\n",
    "    data = {\n",
    "        \"execution_state\": info.component.get_state(ctx),\n",
    "    }\n",
    "    # return a record to save into connected database\n",
    "    return data"
   ]
  },
  {
   "cell_type": "code",
   "execution_count": 4,
   "id": "e6badfd8",
   "metadata": {
    "execution": {
     "iopub.execute_input": "2025-02-21T14:22:36.154874Z",
     "iopub.status.busy": "2025-02-21T14:22:36.154476Z",
     "iopub.status.idle": "2025-02-21T14:22:36.157761Z",
     "shell.execute_reply": "2025-02-21T14:22:36.157133Z"
    },
    "lines_to_next_cell": 2
   },
   "outputs": [],
   "source": [
    "# example service\n",
    "async def heavy_service(ctx: Context):\n",
    "    _ = ctx  # get something from ctx if needed\n",
    "    await asyncio.sleep(0.02)"
   ]
  },
  {
   "cell_type": "markdown",
   "id": "63256b0e",
   "metadata": {
    "cell_marker": "\"\"\"",
    "lines_to_next_cell": 0
   },
   "source": [
    "\n",
    "The many ways in which you can use extractor functions are shown in\n",
    "the following pipeline definition. The functions are used to obtain\n",
    "statistics from respective components:\n",
    "\n",
    "* A service group of two `heavy_service` instances.\n",
    "* An `Actor` service.\n",
    "* The pipeline as a whole.\n",
    "\n",
    "As is the case with the regular extra handler functions,\n",
    "you can wire the extractors to run either before or after the target service.\n",
    "As a result, you can compare the pre-service and post-service states\n",
    "of the context to measure the performance of various components, etc.\n",
    "\n",
    "Some extractors, like `get_current_label`, have restrictions in terms of their\n",
    "run stage: for instance, `get_current_label` needs to only be used as an\n",
    "`after_handler` to function correctly."
   ]
  },
  {
   "cell_type": "code",
   "execution_count": 5,
   "id": "3028785c",
   "metadata": {
    "execution": {
     "iopub.execute_input": "2025-02-21T14:22:36.160119Z",
     "iopub.status.busy": "2025-02-21T14:22:36.159696Z",
     "iopub.status.idle": "2025-02-21T14:22:36.390632Z",
     "shell.execute_reply": "2025-02-21T14:22:36.389928Z"
    }
   },
   "outputs": [
    {
     "name": "stdout",
     "output_type": "stream",
     "text": [
      "USER: text='Hi'\n",
      "BOT : text='Hi, how are you?'\n",
      "USER: text='i'm fine, how are you?'\n",
      "BOT : text='Good. What do you want to talk about?'\n",
      "USER: text='Let's talk about music.'\n",
      "BOT : text='Sorry, I can not talk about music now.'\n",
      "USER: text='Ok, goodbye.'\n",
      "BOT : text='bye'\n",
      "USER: text='Hi'\n"
     ]
    },
    {
     "name": "stdout",
     "output_type": "stream",
     "text": [
      "BOT : text='Hi, how are you?'\n"
     ]
    }
   ],
   "source": [
    "pipeline = Pipeline(\n",
    "    **TOY_SCRIPT_KWARGS,\n",
    "    pre_services=ServiceGroup(\n",
    "        before_handler=[default_extractors.get_timing_before],\n",
    "        after_handler=[\n",
    "            get_service_state,\n",
    "            default_extractors.get_timing_after,\n",
    "        ],\n",
    "        components=[\n",
    "            heavy_service,\n",
    "            heavy_service,\n",
    "        ],\n",
    "    ),\n",
    ")\n",
    "# These are Extra Handlers for Actor.\n",
    "pipeline.actor.add_extra_handler(\n",
    "    ExtraHandlerType.BEFORE, default_extractors.get_timing_before\n",
    ")\n",
    "pipeline.actor.add_extra_handler(ExtraHandlerType.AFTER, get_service_state)\n",
    "pipeline.actor.add_extra_handler(\n",
    "    ExtraHandlerType.AFTER, default_extractors.get_current_label\n",
    ")\n",
    "pipeline.actor.add_extra_handler(\n",
    "    ExtraHandlerType.AFTER, default_extractors.get_timing_after\n",
    ")\n",
    "\n",
    "# These are global Extra Handlers for Pipeline service\n",
    "pipeline.services_pipeline.add_extra_handler(\n",
    "    ExtraHandlerType.BEFORE, default_extractors.get_timing_before\n",
    ")\n",
    "pipeline.services_pipeline.add_extra_handler(\n",
    "    ExtraHandlerType.AFTER, default_extractors.get_timing_after\n",
    ")\n",
    "pipeline.services_pipeline.add_extra_handler(\n",
    "    ExtraHandlerType.AFTER, get_service_state\n",
    ")\n",
    "\n",
    "if __name__ == \"__main__\":\n",
    "    check_happy_path(pipeline, HAPPY_PATH, printout=True)\n",
    "    if is_interactive_mode():\n",
    "        pipeline.run()"
   ]
  }
 ],
 "metadata": {
  "jupytext": {
   "cell_metadata_filter": "-all",
   "main_language": "python",
   "notebook_metadata_filter": "-all",
   "text_representation": {
    "extension": ".py",
    "format_name": "percent"
   }
  },
  "language_info": {
   "codemirror_mode": {
    "name": "ipython",
    "version": 3
   },
   "file_extension": ".py",
   "mimetype": "text/x-python",
   "name": "python",
   "nbconvert_exporter": "python",
   "pygments_lexer": "ipython3",
   "version": "3.9.21"
  }
 },
 "nbformat": 4,
 "nbformat_minor": 5
}
